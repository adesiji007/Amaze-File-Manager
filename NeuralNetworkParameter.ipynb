{
  "nbformat": 4,
  "nbformat_minor": 0,
  "metadata": {
    "colab": {
      "provenance": [],
      "authorship_tag": "ABX9TyM8MIeaT/4gId1T86q6d42n",
      "include_colab_link": true
    },
    "kernelspec": {
      "name": "python3",
      "display_name": "Python 3"
    },
    "language_info": {
      "name": "python"
    }
  },
  "cells": [
    {
      "cell_type": "markdown",
      "metadata": {
        "id": "view-in-github",
        "colab_type": "text"
      },
      "source": [
        "<a href=\"https://colab.research.google.com/github/adesiji007/Amaze-File-Manager/blob/master/NeuralNetworkParameter.ipynb\" target=\"_parent\"><img src=\"https://colab.research.google.com/assets/colab-badge.svg\" alt=\"Open In Colab\"/></a>"
      ]
    },
    {
      "cell_type": "code",
      "execution_count": 1,
      "metadata": {
        "id": "SACYey2Fy7Va"
      },
      "outputs": [],
      "source": [
        "import torch\n",
        "import torch.nn as nn"
      ]
    },
    {
      "cell_type": "markdown",
      "source": [
        "Define your Neural network Model"
      ],
      "metadata": {
        "id": "melXU73g1nB1"
      }
    },
    {
      "cell_type": "code",
      "source": [
        "class myFirstNeuralNetworkModel(nn.Module):\n",
        "  def __init__(self):\n",
        "    super().__init__()\n",
        "    # This model has no layers\n",
        "  def forward(self, x):\n",
        "    # This model does not forward anything\n",
        "    return x"
      ],
      "metadata": {
        "id": "H2GRsecazZgA"
      },
      "execution_count": 2,
      "outputs": []
    },
    {
      "cell_type": "markdown",
      "source": [
        "Instantiate your model"
      ],
      "metadata": {
        "id": "jNoTYYgY18MP"
      }
    },
    {
      "cell_type": "code",
      "source": [
        "# creating your model object\n",
        "model = myFirstNeuralNetworkModel()"
      ],
      "metadata": {
        "id": "AFcJXYPD2AlI"
      },
      "execution_count": 4,
      "outputs": []
    },
    {
      "cell_type": "code",
      "source": [
        "print(model)"
      ],
      "metadata": {
        "colab": {
          "base_uri": "https://localhost:8080/"
        },
        "id": "Axnb2wyq2ZeE",
        "outputId": "77f26573-5615-40ea-82cf-451c11cc809d"
      },
      "execution_count": 5,
      "outputs": [
        {
          "output_type": "stream",
          "name": "stdout",
          "text": [
            "myFirstNeuralNetworkModel()\n"
          ]
        }
      ]
    },
    {
      "cell_type": "markdown",
      "source": [
        "# Define your input tensor data:\n",
        ". Total 100 records\n",
        "\n",
        "1.   100 records of 5 columns or dimensions\n",
        "2.   100 x [age, income, zip-code, has_house, is_married]\n",
        "3. The outcome is purchase_house = True or False / 1 or 0\n",
        "4. Each record has 5 dimensions or fields"
      ],
      "metadata": {
        "id": "HlJLaNdc4wPQ"
      }
    },
    {
      "cell_type": "code",
      "source": [
        "t = torch.randn(10, 5)\n",
        "print(t.shape)\n",
        "print(t.dtype)\n",
        "print(t.size)\n",
        "print(t)"
      ],
      "metadata": {
        "colab": {
          "base_uri": "https://localhost:8080/"
        },
        "id": "L-I_gi7O79kN",
        "outputId": "511c7164-f4d9-48c8-d715-c012a7fc1319"
      },
      "execution_count": 8,
      "outputs": [
        {
          "output_type": "stream",
          "name": "stdout",
          "text": [
            "torch.Size([10, 5])\n",
            "torch.float32\n",
            "<built-in method size of Tensor object at 0x7da6043e6250>\n",
            "tensor([[ 2.0859e-01, -1.6950e+00,  4.1612e-01, -6.5064e-01, -3.6443e-01],\n",
            "        [ 1.7204e+00, -1.6807e-01, -3.5706e-02, -1.4623e+00,  5.4238e-01],\n",
            "        [-2.8408e+00, -4.6982e-01,  3.4405e-01, -4.5144e-01,  4.1577e-01],\n",
            "        [ 1.8253e+00,  1.0282e+00, -3.7636e-01,  1.0342e+00,  5.2937e-01],\n",
            "        [ 5.2646e-01, -2.2880e-01, -1.4399e+00, -1.9204e+00,  7.8542e-01],\n",
            "        [-1.7097e-01,  7.7035e-01, -7.3978e-02, -2.1601e-01, -5.6168e-01],\n",
            "        [-1.1882e+00,  2.0695e-02,  7.5631e-01,  1.0309e+00,  1.4614e+00],\n",
            "        [ 1.3704e+00, -4.3049e-04, -1.5694e+00,  7.8156e-01, -1.2277e+00],\n",
            "        [-6.3961e-01,  3.9215e-01, -1.4836e-01,  1.8719e+00,  1.3304e+00],\n",
            "        [ 6.8807e-01, -3.0473e-01, -2.0973e-01,  1.3169e+00,  3.9841e-01]])\n"
          ]
        }
      ]
    },
    {
      "cell_type": "markdown",
      "source": [],
      "metadata": {
        "id": "M08ZYthD-Ot3"
      }
    },
    {
      "cell_type": "markdown",
      "source": [
        "# Create an object by passing input data through the model"
      ],
      "metadata": {
        "id": "-JWh2OCF9nM0"
      }
    },
    {
      "cell_type": "code",
      "source": [
        "nnm = model(t)"
      ],
      "metadata": {
        "id": "4-L7EQy69mND"
      },
      "execution_count": 9,
      "outputs": []
    },
    {
      "cell_type": "code",
      "source": [
        "print(model(t))"
      ],
      "metadata": {
        "colab": {
          "base_uri": "https://localhost:8080/"
        },
        "id": "EBe8Z7aK932P",
        "outputId": "f787b1ab-14c8-4dcc-c181-fa8fafdb70d9"
      },
      "execution_count": 10,
      "outputs": [
        {
          "output_type": "stream",
          "name": "stdout",
          "text": [
            "tensor([[ 2.0859e-01, -1.6950e+00,  4.1612e-01, -6.5064e-01, -3.6443e-01],\n",
            "        [ 1.7204e+00, -1.6807e-01, -3.5706e-02, -1.4623e+00,  5.4238e-01],\n",
            "        [-2.8408e+00, -4.6982e-01,  3.4405e-01, -4.5144e-01,  4.1577e-01],\n",
            "        [ 1.8253e+00,  1.0282e+00, -3.7636e-01,  1.0342e+00,  5.2937e-01],\n",
            "        [ 5.2646e-01, -2.2880e-01, -1.4399e+00, -1.9204e+00,  7.8542e-01],\n",
            "        [-1.7097e-01,  7.7035e-01, -7.3978e-02, -2.1601e-01, -5.6168e-01],\n",
            "        [-1.1882e+00,  2.0695e-02,  7.5631e-01,  1.0309e+00,  1.4614e+00],\n",
            "        [ 1.3704e+00, -4.3049e-04, -1.5694e+00,  7.8156e-01, -1.2277e+00],\n",
            "        [-6.3961e-01,  3.9215e-01, -1.4836e-01,  1.8719e+00,  1.3304e+00],\n",
            "        [ 6.8807e-01, -3.0473e-01, -2.0973e-01,  1.3169e+00,  3.9841e-01]])\n"
          ]
        }
      ]
    },
    {
      "cell_type": "code",
      "source": [
        "print(nnm)"
      ],
      "metadata": {
        "colab": {
          "base_uri": "https://localhost:8080/"
        },
        "id": "pGOxAh5M99cp",
        "outputId": "75d83df4-9bda-43d2-f543-85ef9bb29bcd"
      },
      "execution_count": 11,
      "outputs": [
        {
          "output_type": "stream",
          "name": "stdout",
          "text": [
            "tensor([[ 2.0859e-01, -1.6950e+00,  4.1612e-01, -6.5064e-01, -3.6443e-01],\n",
            "        [ 1.7204e+00, -1.6807e-01, -3.5706e-02, -1.4623e+00,  5.4238e-01],\n",
            "        [-2.8408e+00, -4.6982e-01,  3.4405e-01, -4.5144e-01,  4.1577e-01],\n",
            "        [ 1.8253e+00,  1.0282e+00, -3.7636e-01,  1.0342e+00,  5.2937e-01],\n",
            "        [ 5.2646e-01, -2.2880e-01, -1.4399e+00, -1.9204e+00,  7.8542e-01],\n",
            "        [-1.7097e-01,  7.7035e-01, -7.3978e-02, -2.1601e-01, -5.6168e-01],\n",
            "        [-1.1882e+00,  2.0695e-02,  7.5631e-01,  1.0309e+00,  1.4614e+00],\n",
            "        [ 1.3704e+00, -4.3049e-04, -1.5694e+00,  7.8156e-01, -1.2277e+00],\n",
            "        [-6.3961e-01,  3.9215e-01, -1.4836e-01,  1.8719e+00,  1.3304e+00],\n",
            "        [ 6.8807e-01, -3.0473e-01, -2.0973e-01,  1.3169e+00,  3.9841e-01]])\n"
          ]
        }
      ]
    },
    {
      "cell_type": "code",
      "source": [
        "from torch._C import Size\n",
        "print(nnm.size)"
      ],
      "metadata": {
        "colab": {
          "base_uri": "https://localhost:8080/"
        },
        "id": "nslA80cd-Gnt",
        "outputId": "53560887-dc9f-45f2-b9cf-0ceea2370d5c"
      },
      "execution_count": 13,
      "outputs": [
        {
          "output_type": "stream",
          "name": "stdout",
          "text": [
            "<built-in method size of Tensor object at 0x7da6043e6250>\n"
          ]
        }
      ]
    },
    {
      "cell_type": "code",
      "source": [
        "print(nnm.shape)"
      ],
      "metadata": {
        "colab": {
          "base_uri": "https://localhost:8080/"
        },
        "id": "kjGQ-_w--kGY",
        "outputId": "b3ac7221-6176-4a21-fbb0-3a4b00356d9b"
      },
      "execution_count": 15,
      "outputs": [
        {
          "output_type": "stream",
          "name": "stdout",
          "text": [
            "torch.Size([10, 5])\n"
          ]
        }
      ]
    },
    {
      "cell_type": "code",
      "source": [
        "nnm"
      ],
      "metadata": {
        "id": "VGcFlEJr-xjQ"
      },
      "execution_count": null,
      "outputs": []
    },
    {
      "cell_type": "markdown",
      "source": [
        "Until now we have no relationship between the Tensor and the Model we created.\n",
        "\n",
        "\n",
        "1.   The Model definition is empty, it does not not handle the input as there are no layers to process the input data\n",
        "2.   The forward method does not pass anything\n",
        "3. The model is EMPTY\n",
        "\n",
        "# Lets connect the model and Input data (Tensor) together\n",
        "\n",
        "# Concept:\n",
        "\n",
        "*   Dataset:\n",
        "\n",
        "  *   We have to records of 5 dimensions\n",
        "  *   We use 10 records as it easy to visualize here\n",
        "  *   Our output class has 2 values True (1) or False (0)\n",
        "*   Layers\n",
        "  *   We will add through experimentation\n",
        "\n",
        "*   A network with input and output layers:\n",
        "  *   First (Input and Output) Layer\n",
        "    *   self.lin1 = nn.Linear(Input_dimensions, output_classes)\n",
        "    *   Applies a linear transformation to the incoming data y = zA^t + b\n",
        "    *   \n",
        "\n",
        "\n",
        "\n",
        "\n",
        "\n",
        "\n",
        "\n",
        "\n",
        "\n",
        "\n",
        "\n",
        "\n",
        "\n"
      ],
      "metadata": {
        "id": "Ga9fLgFm_BiP"
      }
    },
    {
      "cell_type": "code",
      "source": [
        "class myFirstNeuralNetworkModel(nn.Module):\n",
        "  def __init__(self):\n",
        "    super().__init__()\n",
        "    self.linear0 = nn.Linear(5, 2)\n",
        "  def forward(self, x):\n",
        "    x = self.linear0(x)\n",
        "    print(x.shape)\n",
        "    return x"
      ],
      "metadata": {
        "id": "-5TyEdKoDxDM"
      },
      "execution_count": 16,
      "outputs": []
    },
    {
      "cell_type": "markdown",
      "source": [
        "# A Network with N hidden layer(s)\n",
        "\n",
        "  *   First(Input) Layer\n",
        "    *   self.linY = nn.Linear(input_dimensions, input_for_first_hidden_layer)\n",
        "*   Middle Layers(As many as needed)\n",
        "    *   Must have the matrix manipulations working..\n",
        "*   Last(Output) Layer\n",
        "    *   self.linX = nn.Linear(output_of_previous_layers, out_classes)\n",
        "\n"
      ],
      "metadata": {
        "id": "c5zHFhedMYj2"
      }
    },
    {
      "cell_type": "markdown",
      "source": [],
      "metadata": {
        "id": "L_S3Rq7U-_fL"
      }
    },
    {
      "cell_type": "code",
      "source": [
        "class myFirstNeuralNetworkModel(nn.Module):\n",
        "  def __init__(self):\n",
        "    super().__init__()\n",
        "    self.linear0 = nn.Linear(5, 15)\n",
        "    self.linear1 = nn.Linear(10, 2)\n",
        "  def forward(self, x):\n",
        "    x = self.linear0(x)\n",
        "    print(x.shape)\n",
        "    x = self.linear1(x )\n",
        "    print(x.shape)\n",
        "    return x"
      ],
      "metadata": {
        "id": "tNL_qdCTPO59"
      },
      "execution_count": 18,
      "outputs": []
    },
    {
      "cell_type": "code",
      "source": [
        "class myFirstNeuralNetworkModel(nn.Module):\n",
        "  def __init__(self):\n",
        "    self.linear0 = nn.Linear(5, 100)\n",
        "    self.linear1 = nn.linear(100, 10)\n",
        "    self.linear2 = nn.Linear(10, 2)\n",
        "  def forward(self, x):\n",
        "    x = self.linear0(x)\n",
        "    print(x.shape)\n",
        "    x = self.linear1(x)\n",
        "    print(x.shape)\n",
        "    x = self.linear2(x + x + x)\n",
        "    print(x.shape)\n",
        "    return x"
      ],
      "metadata": {
        "id": "HQIKdN1d-36Q"
      },
      "execution_count": 19,
      "outputs": []
    },
    {
      "cell_type": "code",
      "source": [
        "class myFirstNeuralNetworkModel(nn.Module):\n",
        "  def __init__(self):\n",
        "    self.linear0 = nn.Linear(5, 100)\n",
        "    self.linear1 = nn.linear(1000, 100)\n",
        "    self.linear2 = nn.Linear(100, 10)\n",
        "    self.linear3 = nn.Linear(10, 2)\n",
        "  def forward(self, x):\n",
        "    x = self.linear0(x)\n",
        "    print(x.shape)\n",
        "    x = self.linear1(x)\n",
        "    print(x.shape)\n",
        "    x = self.linear2(x)\n",
        "    print(x.shape)\n",
        "    x = self.linear3(x)\n",
        "    print(x.shape)\n",
        "    return x"
      ],
      "metadata": {
        "id": "7PDlvPHlUTTy"
      },
      "execution_count": 35,
      "outputs": []
    },
    {
      "cell_type": "markdown",
      "source": [
        "# Lets Experimant with out Neural with various Hidden Layers"
      ],
      "metadata": {
        "id": "zn4UJl5DZY6O"
      }
    },
    {
      "cell_type": "code",
      "source": [
        "class myFirstNeuralNetworkModel(nn.Module):\n",
        "  def __init__(self):\n",
        "    super().__init__()\n",
        "    # first layer takes the input of size 5 and\n",
        "    ## first layer INPUT parameter shows the number of dimensions in your data as input to the network\n",
        "    self.linear1 = nn.Linear(5, 10)\n",
        "    self.linear2 = nn.Linear(10, 100)\n",
        "    self.linear3 = nn.Linear(100, 100)\n",
        "    self.linear4 = nn.Linear(100, 100)\n",
        "    self.linear5 = nn.Linear(100, 2)\n",
        "    ## Last layer OUT parameter shows the number of outputs in your neural network\n",
        "  def forward(self, x):\n",
        "    # This model connect the layer outputs in the forward pass\n",
        "    x1 = self.linear1(x)\n",
        "    print(x.shape)\n",
        "    x = self.linear2(x1)\n",
        "    print(x.shape)\n",
        "    x = self.linear3(x) + self.linear2(x1)\n",
        "    print(x.shape)\n",
        "    x = self.linear4(x)\n",
        "    print(x.shape)\n",
        "    x = self.linear5(x)\n",
        "    print(x.shape)\n",
        "    return x"
      ],
      "metadata": {
        "id": "Zmmzw29UVYM4"
      },
      "execution_count": 57,
      "outputs": []
    },
    {
      "cell_type": "code",
      "source": [
        "#t = torch.randn(10, 5)\n",
        "#t = torch.ones(10, 5)\n",
        "t = torch.zeros(10, 5)\n",
        "\n",
        "print(t.shape)\n",
        "print(t.dtype)\n",
        "print(t.size)\n",
        "print(t)\n"
      ],
      "metadata": {
        "colab": {
          "base_uri": "https://localhost:8080/"
        },
        "id": "mt8gXxSIa8Gi",
        "outputId": "36675e55-92ed-42fc-bb06-9fea671ad577"
      },
      "execution_count": 58,
      "outputs": [
        {
          "output_type": "stream",
          "name": "stdout",
          "text": [
            "torch.Size([10, 5])\n",
            "torch.float32\n",
            "<built-in method size of Tensor object at 0x7da5fabf9440>\n",
            "tensor([[0., 0., 0., 0., 0.],\n",
            "        [0., 0., 0., 0., 0.],\n",
            "        [0., 0., 0., 0., 0.],\n",
            "        [0., 0., 0., 0., 0.],\n",
            "        [0., 0., 0., 0., 0.],\n",
            "        [0., 0., 0., 0., 0.],\n",
            "        [0., 0., 0., 0., 0.],\n",
            "        [0., 0., 0., 0., 0.],\n",
            "        [0., 0., 0., 0., 0.],\n",
            "        [0., 0., 0., 0., 0.]])\n"
          ]
        }
      ]
    },
    {
      "cell_type": "code",
      "source": [
        "model = myFirstNeuralNetworkModel()\n",
        "n = model(t)"
      ],
      "metadata": {
        "colab": {
          "base_uri": "https://localhost:8080/"
        },
        "id": "np_XqWKhgMjm",
        "outputId": "082eff46-ba78-4668-edfb-8bba143781fd"
      },
      "execution_count": 59,
      "outputs": [
        {
          "output_type": "stream",
          "name": "stdout",
          "text": [
            "torch.Size([10, 5])\n",
            "torch.Size([10, 100])\n",
            "torch.Size([10, 100])\n",
            "torch.Size([10, 100])\n",
            "torch.Size([10, 2])\n"
          ]
        }
      ]
    },
    {
      "cell_type": "code",
      "source": [
        "print(n.size)\n",
        "print(n.shape)\n",
        "print(n)"
      ],
      "metadata": {
        "colab": {
          "base_uri": "https://localhost:8080/"
        },
        "id": "EPxwsL8lgkwy",
        "outputId": "e73c0d1d-563c-4756-846b-494631036e20"
      },
      "execution_count": 60,
      "outputs": [
        {
          "output_type": "stream",
          "name": "stdout",
          "text": [
            "<built-in method size of Tensor object at 0x7da5fabe11c0>\n",
            "torch.Size([10, 2])\n",
            "tensor([[ 0.0070, -0.1090],\n",
            "        [ 0.0070, -0.1090],\n",
            "        [ 0.0070, -0.1090],\n",
            "        [ 0.0070, -0.1090],\n",
            "        [ 0.0070, -0.1090],\n",
            "        [ 0.0070, -0.1090],\n",
            "        [ 0.0070, -0.1090],\n",
            "        [ 0.0070, -0.1090],\n",
            "        [ 0.0070, -0.1090],\n",
            "        [ 0.0070, -0.1090]], grad_fn=<AddmmBackward0>)\n"
          ]
        }
      ]
    },
    {
      "cell_type": "markdown",
      "source": [
        "# importance of your model size:\n",
        "\n",
        "\n",
        "*   The size must be:\n",
        "  *   [The total number of the records, total number of output class]\n",
        "  \n",
        "\n"
      ],
      "metadata": {
        "id": "2cwJE_Qtl7rU"
      }
    },
    {
      "cell_type": "code",
      "source": [
        "print(n.shape)"
      ],
      "metadata": {
        "id": "rvMjc2ZrmSHl"
      },
      "execution_count": null,
      "outputs": []
    },
    {
      "cell_type": "markdown",
      "source": [
        "# Comples Forward Functions"
      ],
      "metadata": {
        "id": "jskVtn-ymVbg"
      }
    },
    {
      "cell_type": "code",
      "source": [
        "def forward(self, x):\n",
        "  x1 = self.linear1(x)\n",
        "  x2 = x + self.linear2(x1)\n",
        "  x2 = self.linear1(x1)\n",
        "  x = self.linear3(x2 + 1)\n",
        "  return x"
      ],
      "metadata": {
        "id": "jkUI08CYmanC"
      },
      "execution_count": null,
      "outputs": []
    },
    {
      "cell_type": "code",
      "source": [
        "class myFirstNeuralNetworkModel(nn.Module):\n",
        "  def __init__(self):\n",
        "    super().__init__()\n",
        "    #This model has 2 Linear layers\n",
        "    self.linear1 = nn.Linear(5, 100)\n",
        "    self.linear2 = nn.Linear(100, 5)\n",
        "    self.linear3 = nn.Linear(100, 2)\n",
        "    ## Last layer OUT parameter shows the number of outputs in your neural network\n",
        "  def forward(self, x):\n",
        "    # This model connect the layer output in the forward pass\n",
        "    x1 = self.linear1(x) # in -> 5, 100, x1 = 5,100\n",
        "    print(x1.shape)\n",
        "    x2 = x + self.linear2(x1) # (5, 100) + (5, 100) > x2 = (5, 100)\n",
        "    print(x2.shape)\n",
        "    x2 = self.linear1(x2) # x2 => (5, 100)\n",
        "    print(x2.shape)\n",
        "    x = self.linear3(x2) # x2 = (5, 100), x3 => (100, 2) > x = output dimension: 2\n",
        "    print(x.shape)\n",
        "    return x\n"
      ],
      "metadata": {
        "id": "SzQncJDeqO1m"
      },
      "execution_count": 66,
      "outputs": []
    },
    {
      "cell_type": "code",
      "source": [
        "model = myFirstNeuralNetworkModel()\n",
        "#t = torch.ones(10, 5)\n",
        "t = torch.randn(10, 5)\n",
        "n = model(t)"
      ],
      "metadata": {
        "colab": {
          "base_uri": "https://localhost:8080/"
        },
        "id": "zmexv_Aav55x",
        "outputId": "a1b4cd0a-8086-4969-e0fa-0935432109a0"
      },
      "execution_count": 67,
      "outputs": [
        {
          "output_type": "stream",
          "name": "stdout",
          "text": [
            "torch.Size([10, 100])\n",
            "torch.Size([10, 5])\n",
            "torch.Size([10, 100])\n",
            "torch.Size([10, 2])\n"
          ]
        }
      ]
    },
    {
      "cell_type": "code",
      "source": [
        "print(n.size)\n",
        "print(n.shape)\n",
        "print(n)"
      ],
      "metadata": {
        "colab": {
          "base_uri": "https://localhost:8080/"
        },
        "id": "tQe2IYOkwWVs",
        "outputId": "3f029132-cb62-471c-bdb3-3420bce48f3f"
      },
      "execution_count": 68,
      "outputs": [
        {
          "output_type": "stream",
          "name": "stdout",
          "text": [
            "<built-in method size of Tensor object at 0x7da5facdac00>\n",
            "torch.Size([10, 2])\n",
            "tensor([[ 0.2494,  0.0575],\n",
            "        [-0.1559,  0.8767],\n",
            "        [-0.0951,  0.4863],\n",
            "        [-0.1233,  0.4867],\n",
            "        [-0.4218,  0.8940],\n",
            "        [ 0.0918, -0.1910],\n",
            "        [-0.7302,  0.9222],\n",
            "        [-0.7705, -0.0519],\n",
            "        [ 0.2020,  1.4065],\n",
            "        [ 0.2395,  1.1905]], grad_fn=<AddmmBackward0>)\n"
          ]
        }
      ]
    },
    {
      "cell_type": "markdown",
      "source": [
        "#Heart Disease Problem\n",
        "\n",
        "*   https://archive.ics.uci.edu/ml/datasets/heart+disease\n",
        "*   75 columns, 14 columns are most used and applicable\n",
        "*   Records 303\n",
        "*   Input -> (303, 14)\n",
        "*   Output -> 2 classes -> True or False\n",
        "*   List item\n",
        "\n",
        "\n"
      ],
      "metadata": {
        "id": "6-YiWJAuyJp5"
      }
    },
    {
      "cell_type": "code",
      "source": [
        "import pandas as pd\n",
        "import numpy as np"
      ],
      "metadata": {
        "id": "NTde5J-czH7G"
      },
      "execution_count": 70,
      "outputs": []
    },
    {
      "cell_type": "code",
      "source": [
        "df = pd.read_csv('https://raw.githubusercontent.com/prodramp/publiccode/master/datasets/heart.csv')"
      ],
      "metadata": {
        "id": "XDg-o3-_zOM8"
      },
      "execution_count": 74,
      "outputs": []
    },
    {
      "cell_type": "code",
      "source": [
        "df_input = pd.DataFrame(df.iloc[:, 0:13])\n",
        "df_target = pd.DataFrame(df.iloc[:, 13], columns=['target'])"
      ],
      "metadata": {
        "id": "3ynBxWlQz4Z5"
      },
      "execution_count": 75,
      "outputs": []
    },
    {
      "cell_type": "code",
      "source": [
        "df_input.columns"
      ],
      "metadata": {
        "colab": {
          "base_uri": "https://localhost:8080/"
        },
        "id": "0rSZfpWa0R-W",
        "outputId": "0f96d63c-8a83-4d58-e3d3-f3c387bbd855"
      },
      "execution_count": 76,
      "outputs": [
        {
          "output_type": "execute_result",
          "data": {
            "text/plain": [
              "Index(['age', 'sex', 'cp', 'trestbps', 'chol', 'fbs', 'restecg', 'thalach',\n",
              "       'exang', 'oldpeak', 'slope', 'ca', 'thal'],\n",
              "      dtype='object')"
            ]
          },
          "metadata": {},
          "execution_count": 76
        }
      ]
    },
    {
      "cell_type": "code",
      "source": [
        "df_input"
      ],
      "metadata": {
        "colab": {
          "base_uri": "https://localhost:8080/",
          "height": 423
        },
        "id": "wl0nwrd10WTl",
        "outputId": "21635d07-0935-4e34-d0fe-7e3e47d944a3"
      },
      "execution_count": 77,
      "outputs": [
        {
          "output_type": "execute_result",
          "data": {
            "text/plain": [
              "     age  sex  cp  trestbps  chol  fbs  restecg  thalach  exang  oldpeak  \\\n",
              "0     63    1   3       145   233    1        0      150      0      2.3   \n",
              "1     37    1   2       130   250    0        1      187      0      3.5   \n",
              "2     41    0   1       130   204    0        0      172      0      1.4   \n",
              "3     56    1   1       120   236    0        1      178      0      0.8   \n",
              "4     57    0   0       120   354    0        1      163      1      0.6   \n",
              "..   ...  ...  ..       ...   ...  ...      ...      ...    ...      ...   \n",
              "298   57    0   0       140   241    0        1      123      1      0.2   \n",
              "299   45    1   3       110   264    0        1      132      0      1.2   \n",
              "300   68    1   0       144   193    1        1      141      0      3.4   \n",
              "301   57    1   0       130   131    0        1      115      1      1.2   \n",
              "302   57    0   1       130   236    0        0      174      0      0.0   \n",
              "\n",
              "     slope  ca  thal  \n",
              "0        0   0     1  \n",
              "1        0   0     2  \n",
              "2        2   0     2  \n",
              "3        2   0     2  \n",
              "4        2   0     2  \n",
              "..     ...  ..   ...  \n",
              "298      1   0     3  \n",
              "299      1   0     3  \n",
              "300      1   2     3  \n",
              "301      1   1     3  \n",
              "302      1   1     2  \n",
              "\n",
              "[303 rows x 13 columns]"
            ],
            "text/html": [
              "\n",
              "  <div id=\"df-7e2d6a0a-13b3-4843-9860-35fc473baeb3\" class=\"colab-df-container\">\n",
              "    <div>\n",
              "<style scoped>\n",
              "    .dataframe tbody tr th:only-of-type {\n",
              "        vertical-align: middle;\n",
              "    }\n",
              "\n",
              "    .dataframe tbody tr th {\n",
              "        vertical-align: top;\n",
              "    }\n",
              "\n",
              "    .dataframe thead th {\n",
              "        text-align: right;\n",
              "    }\n",
              "</style>\n",
              "<table border=\"1\" class=\"dataframe\">\n",
              "  <thead>\n",
              "    <tr style=\"text-align: right;\">\n",
              "      <th></th>\n",
              "      <th>age</th>\n",
              "      <th>sex</th>\n",
              "      <th>cp</th>\n",
              "      <th>trestbps</th>\n",
              "      <th>chol</th>\n",
              "      <th>fbs</th>\n",
              "      <th>restecg</th>\n",
              "      <th>thalach</th>\n",
              "      <th>exang</th>\n",
              "      <th>oldpeak</th>\n",
              "      <th>slope</th>\n",
              "      <th>ca</th>\n",
              "      <th>thal</th>\n",
              "    </tr>\n",
              "  </thead>\n",
              "  <tbody>\n",
              "    <tr>\n",
              "      <th>0</th>\n",
              "      <td>63</td>\n",
              "      <td>1</td>\n",
              "      <td>3</td>\n",
              "      <td>145</td>\n",
              "      <td>233</td>\n",
              "      <td>1</td>\n",
              "      <td>0</td>\n",
              "      <td>150</td>\n",
              "      <td>0</td>\n",
              "      <td>2.3</td>\n",
              "      <td>0</td>\n",
              "      <td>0</td>\n",
              "      <td>1</td>\n",
              "    </tr>\n",
              "    <tr>\n",
              "      <th>1</th>\n",
              "      <td>37</td>\n",
              "      <td>1</td>\n",
              "      <td>2</td>\n",
              "      <td>130</td>\n",
              "      <td>250</td>\n",
              "      <td>0</td>\n",
              "      <td>1</td>\n",
              "      <td>187</td>\n",
              "      <td>0</td>\n",
              "      <td>3.5</td>\n",
              "      <td>0</td>\n",
              "      <td>0</td>\n",
              "      <td>2</td>\n",
              "    </tr>\n",
              "    <tr>\n",
              "      <th>2</th>\n",
              "      <td>41</td>\n",
              "      <td>0</td>\n",
              "      <td>1</td>\n",
              "      <td>130</td>\n",
              "      <td>204</td>\n",
              "      <td>0</td>\n",
              "      <td>0</td>\n",
              "      <td>172</td>\n",
              "      <td>0</td>\n",
              "      <td>1.4</td>\n",
              "      <td>2</td>\n",
              "      <td>0</td>\n",
              "      <td>2</td>\n",
              "    </tr>\n",
              "    <tr>\n",
              "      <th>3</th>\n",
              "      <td>56</td>\n",
              "      <td>1</td>\n",
              "      <td>1</td>\n",
              "      <td>120</td>\n",
              "      <td>236</td>\n",
              "      <td>0</td>\n",
              "      <td>1</td>\n",
              "      <td>178</td>\n",
              "      <td>0</td>\n",
              "      <td>0.8</td>\n",
              "      <td>2</td>\n",
              "      <td>0</td>\n",
              "      <td>2</td>\n",
              "    </tr>\n",
              "    <tr>\n",
              "      <th>4</th>\n",
              "      <td>57</td>\n",
              "      <td>0</td>\n",
              "      <td>0</td>\n",
              "      <td>120</td>\n",
              "      <td>354</td>\n",
              "      <td>0</td>\n",
              "      <td>1</td>\n",
              "      <td>163</td>\n",
              "      <td>1</td>\n",
              "      <td>0.6</td>\n",
              "      <td>2</td>\n",
              "      <td>0</td>\n",
              "      <td>2</td>\n",
              "    </tr>\n",
              "    <tr>\n",
              "      <th>...</th>\n",
              "      <td>...</td>\n",
              "      <td>...</td>\n",
              "      <td>...</td>\n",
              "      <td>...</td>\n",
              "      <td>...</td>\n",
              "      <td>...</td>\n",
              "      <td>...</td>\n",
              "      <td>...</td>\n",
              "      <td>...</td>\n",
              "      <td>...</td>\n",
              "      <td>...</td>\n",
              "      <td>...</td>\n",
              "      <td>...</td>\n",
              "    </tr>\n",
              "    <tr>\n",
              "      <th>298</th>\n",
              "      <td>57</td>\n",
              "      <td>0</td>\n",
              "      <td>0</td>\n",
              "      <td>140</td>\n",
              "      <td>241</td>\n",
              "      <td>0</td>\n",
              "      <td>1</td>\n",
              "      <td>123</td>\n",
              "      <td>1</td>\n",
              "      <td>0.2</td>\n",
              "      <td>1</td>\n",
              "      <td>0</td>\n",
              "      <td>3</td>\n",
              "    </tr>\n",
              "    <tr>\n",
              "      <th>299</th>\n",
              "      <td>45</td>\n",
              "      <td>1</td>\n",
              "      <td>3</td>\n",
              "      <td>110</td>\n",
              "      <td>264</td>\n",
              "      <td>0</td>\n",
              "      <td>1</td>\n",
              "      <td>132</td>\n",
              "      <td>0</td>\n",
              "      <td>1.2</td>\n",
              "      <td>1</td>\n",
              "      <td>0</td>\n",
              "      <td>3</td>\n",
              "    </tr>\n",
              "    <tr>\n",
              "      <th>300</th>\n",
              "      <td>68</td>\n",
              "      <td>1</td>\n",
              "      <td>0</td>\n",
              "      <td>144</td>\n",
              "      <td>193</td>\n",
              "      <td>1</td>\n",
              "      <td>1</td>\n",
              "      <td>141</td>\n",
              "      <td>0</td>\n",
              "      <td>3.4</td>\n",
              "      <td>1</td>\n",
              "      <td>2</td>\n",
              "      <td>3</td>\n",
              "    </tr>\n",
              "    <tr>\n",
              "      <th>301</th>\n",
              "      <td>57</td>\n",
              "      <td>1</td>\n",
              "      <td>0</td>\n",
              "      <td>130</td>\n",
              "      <td>131</td>\n",
              "      <td>0</td>\n",
              "      <td>1</td>\n",
              "      <td>115</td>\n",
              "      <td>1</td>\n",
              "      <td>1.2</td>\n",
              "      <td>1</td>\n",
              "      <td>1</td>\n",
              "      <td>3</td>\n",
              "    </tr>\n",
              "    <tr>\n",
              "      <th>302</th>\n",
              "      <td>57</td>\n",
              "      <td>0</td>\n",
              "      <td>1</td>\n",
              "      <td>130</td>\n",
              "      <td>236</td>\n",
              "      <td>0</td>\n",
              "      <td>0</td>\n",
              "      <td>174</td>\n",
              "      <td>0</td>\n",
              "      <td>0.0</td>\n",
              "      <td>1</td>\n",
              "      <td>1</td>\n",
              "      <td>2</td>\n",
              "    </tr>\n",
              "  </tbody>\n",
              "</table>\n",
              "<p>303 rows × 13 columns</p>\n",
              "</div>\n",
              "    <div class=\"colab-df-buttons\">\n",
              "\n",
              "  <div class=\"colab-df-container\">\n",
              "    <button class=\"colab-df-convert\" onclick=\"convertToInteractive('df-7e2d6a0a-13b3-4843-9860-35fc473baeb3')\"\n",
              "            title=\"Convert this dataframe to an interactive table.\"\n",
              "            style=\"display:none;\">\n",
              "\n",
              "  <svg xmlns=\"http://www.w3.org/2000/svg\" height=\"24px\" viewBox=\"0 -960 960 960\">\n",
              "    <path d=\"M120-120v-720h720v720H120Zm60-500h600v-160H180v160Zm220 220h160v-160H400v160Zm0 220h160v-160H400v160ZM180-400h160v-160H180v160Zm440 0h160v-160H620v160ZM180-180h160v-160H180v160Zm440 0h160v-160H620v160Z\"/>\n",
              "  </svg>\n",
              "    </button>\n",
              "\n",
              "  <style>\n",
              "    .colab-df-container {\n",
              "      display:flex;\n",
              "      gap: 12px;\n",
              "    }\n",
              "\n",
              "    .colab-df-convert {\n",
              "      background-color: #E8F0FE;\n",
              "      border: none;\n",
              "      border-radius: 50%;\n",
              "      cursor: pointer;\n",
              "      display: none;\n",
              "      fill: #1967D2;\n",
              "      height: 32px;\n",
              "      padding: 0 0 0 0;\n",
              "      width: 32px;\n",
              "    }\n",
              "\n",
              "    .colab-df-convert:hover {\n",
              "      background-color: #E2EBFA;\n",
              "      box-shadow: 0px 1px 2px rgba(60, 64, 67, 0.3), 0px 1px 3px 1px rgba(60, 64, 67, 0.15);\n",
              "      fill: #174EA6;\n",
              "    }\n",
              "\n",
              "    .colab-df-buttons div {\n",
              "      margin-bottom: 4px;\n",
              "    }\n",
              "\n",
              "    [theme=dark] .colab-df-convert {\n",
              "      background-color: #3B4455;\n",
              "      fill: #D2E3FC;\n",
              "    }\n",
              "\n",
              "    [theme=dark] .colab-df-convert:hover {\n",
              "      background-color: #434B5C;\n",
              "      box-shadow: 0px 1px 3px 1px rgba(0, 0, 0, 0.15);\n",
              "      filter: drop-shadow(0px 1px 2px rgba(0, 0, 0, 0.3));\n",
              "      fill: #FFFFFF;\n",
              "    }\n",
              "  </style>\n",
              "\n",
              "    <script>\n",
              "      const buttonEl =\n",
              "        document.querySelector('#df-7e2d6a0a-13b3-4843-9860-35fc473baeb3 button.colab-df-convert');\n",
              "      buttonEl.style.display =\n",
              "        google.colab.kernel.accessAllowed ? 'block' : 'none';\n",
              "\n",
              "      async function convertToInteractive(key) {\n",
              "        const element = document.querySelector('#df-7e2d6a0a-13b3-4843-9860-35fc473baeb3');\n",
              "        const dataTable =\n",
              "          await google.colab.kernel.invokeFunction('convertToInteractive',\n",
              "                                                    [key], {});\n",
              "        if (!dataTable) return;\n",
              "\n",
              "        const docLinkHtml = 'Like what you see? Visit the ' +\n",
              "          '<a target=\"_blank\" href=https://colab.research.google.com/notebooks/data_table.ipynb>data table notebook</a>'\n",
              "          + ' to learn more about interactive tables.';\n",
              "        element.innerHTML = '';\n",
              "        dataTable['output_type'] = 'display_data';\n",
              "        await google.colab.output.renderOutput(dataTable, element);\n",
              "        const docLink = document.createElement('div');\n",
              "        docLink.innerHTML = docLinkHtml;\n",
              "        element.appendChild(docLink);\n",
              "      }\n",
              "    </script>\n",
              "  </div>\n",
              "\n",
              "\n",
              "<div id=\"df-c169f998-4bb7-41dd-a84f-55f8407c2114\">\n",
              "  <button class=\"colab-df-quickchart\" onclick=\"quickchart('df-c169f998-4bb7-41dd-a84f-55f8407c2114')\"\n",
              "            title=\"Suggest charts.\"\n",
              "            style=\"display:none;\">\n",
              "\n",
              "<svg xmlns=\"http://www.w3.org/2000/svg\" height=\"24px\"viewBox=\"0 0 24 24\"\n",
              "     width=\"24px\">\n",
              "    <g>\n",
              "        <path d=\"M19 3H5c-1.1 0-2 .9-2 2v14c0 1.1.9 2 2 2h14c1.1 0 2-.9 2-2V5c0-1.1-.9-2-2-2zM9 17H7v-7h2v7zm4 0h-2V7h2v10zm4 0h-2v-4h2v4z\"/>\n",
              "    </g>\n",
              "</svg>\n",
              "  </button>\n",
              "\n",
              "<style>\n",
              "  .colab-df-quickchart {\n",
              "    background-color: #E8F0FE;\n",
              "    border: none;\n",
              "    border-radius: 50%;\n",
              "    cursor: pointer;\n",
              "    display: none;\n",
              "    fill: #1967D2;\n",
              "    height: 32px;\n",
              "    padding: 0 0 0 0;\n",
              "    width: 32px;\n",
              "  }\n",
              "\n",
              "  .colab-df-quickchart:hover {\n",
              "    background-color: #E2EBFA;\n",
              "    box-shadow: 0px 1px 2px rgba(60, 64, 67, 0.3), 0px 1px 3px 1px rgba(60, 64, 67, 0.15);\n",
              "    fill: #174EA6;\n",
              "  }\n",
              "\n",
              "  [theme=dark] .colab-df-quickchart {\n",
              "    background-color: #3B4455;\n",
              "    fill: #D2E3FC;\n",
              "  }\n",
              "\n",
              "  [theme=dark] .colab-df-quickchart:hover {\n",
              "    background-color: #434B5C;\n",
              "    box-shadow: 0px 1px 3px 1px rgba(0, 0, 0, 0.15);\n",
              "    filter: drop-shadow(0px 1px 2px rgba(0, 0, 0, 0.3));\n",
              "    fill: #FFFFFF;\n",
              "  }\n",
              "</style>\n",
              "\n",
              "  <script>\n",
              "    async function quickchart(key) {\n",
              "      const charts = await google.colab.kernel.invokeFunction(\n",
              "          'suggestCharts', [key], {});\n",
              "    }\n",
              "    (() => {\n",
              "      let quickchartButtonEl =\n",
              "        document.querySelector('#df-c169f998-4bb7-41dd-a84f-55f8407c2114 button');\n",
              "      quickchartButtonEl.style.display =\n",
              "        google.colab.kernel.accessAllowed ? 'block' : 'none';\n",
              "    })();\n",
              "  </script>\n",
              "</div>\n",
              "    </div>\n",
              "  </div>\n"
            ]
          },
          "metadata": {},
          "execution_count": 77
        }
      ]
    },
    {
      "cell_type": "code",
      "source": [
        "df_target.columns"
      ],
      "metadata": {
        "colab": {
          "base_uri": "https://localhost:8080/"
        },
        "id": "w45edV_z0uzN",
        "outputId": "2c5f6eb2-c19d-4d43-cb63-8c6a3e54a6cc"
      },
      "execution_count": 78,
      "outputs": [
        {
          "output_type": "execute_result",
          "data": {
            "text/plain": [
              "Index(['target'], dtype='object')"
            ]
          },
          "metadata": {},
          "execution_count": 78
        }
      ]
    },
    {
      "cell_type": "code",
      "source": [
        "df_target"
      ],
      "metadata": {
        "colab": {
          "base_uri": "https://localhost:8080/",
          "height": 423
        },
        "id": "uQGmf-3x2_sb",
        "outputId": "329211f7-7910-4217-88e8-8d901f2f4bae"
      },
      "execution_count": 87,
      "outputs": [
        {
          "output_type": "execute_result",
          "data": {
            "text/plain": [
              "     target\n",
              "0         1\n",
              "1         1\n",
              "2         1\n",
              "3         1\n",
              "4         1\n",
              "..      ...\n",
              "298       0\n",
              "299       0\n",
              "300       0\n",
              "301       0\n",
              "302       0\n",
              "\n",
              "[303 rows x 1 columns]"
            ],
            "text/html": [
              "\n",
              "  <div id=\"df-edcba02f-f364-441b-b37e-89edda158df5\" class=\"colab-df-container\">\n",
              "    <div>\n",
              "<style scoped>\n",
              "    .dataframe tbody tr th:only-of-type {\n",
              "        vertical-align: middle;\n",
              "    }\n",
              "\n",
              "    .dataframe tbody tr th {\n",
              "        vertical-align: top;\n",
              "    }\n",
              "\n",
              "    .dataframe thead th {\n",
              "        text-align: right;\n",
              "    }\n",
              "</style>\n",
              "<table border=\"1\" class=\"dataframe\">\n",
              "  <thead>\n",
              "    <tr style=\"text-align: right;\">\n",
              "      <th></th>\n",
              "      <th>target</th>\n",
              "    </tr>\n",
              "  </thead>\n",
              "  <tbody>\n",
              "    <tr>\n",
              "      <th>0</th>\n",
              "      <td>1</td>\n",
              "    </tr>\n",
              "    <tr>\n",
              "      <th>1</th>\n",
              "      <td>1</td>\n",
              "    </tr>\n",
              "    <tr>\n",
              "      <th>2</th>\n",
              "      <td>1</td>\n",
              "    </tr>\n",
              "    <tr>\n",
              "      <th>3</th>\n",
              "      <td>1</td>\n",
              "    </tr>\n",
              "    <tr>\n",
              "      <th>4</th>\n",
              "      <td>1</td>\n",
              "    </tr>\n",
              "    <tr>\n",
              "      <th>...</th>\n",
              "      <td>...</td>\n",
              "    </tr>\n",
              "    <tr>\n",
              "      <th>298</th>\n",
              "      <td>0</td>\n",
              "    </tr>\n",
              "    <tr>\n",
              "      <th>299</th>\n",
              "      <td>0</td>\n",
              "    </tr>\n",
              "    <tr>\n",
              "      <th>300</th>\n",
              "      <td>0</td>\n",
              "    </tr>\n",
              "    <tr>\n",
              "      <th>301</th>\n",
              "      <td>0</td>\n",
              "    </tr>\n",
              "    <tr>\n",
              "      <th>302</th>\n",
              "      <td>0</td>\n",
              "    </tr>\n",
              "  </tbody>\n",
              "</table>\n",
              "<p>303 rows × 1 columns</p>\n",
              "</div>\n",
              "    <div class=\"colab-df-buttons\">\n",
              "\n",
              "  <div class=\"colab-df-container\">\n",
              "    <button class=\"colab-df-convert\" onclick=\"convertToInteractive('df-edcba02f-f364-441b-b37e-89edda158df5')\"\n",
              "            title=\"Convert this dataframe to an interactive table.\"\n",
              "            style=\"display:none;\">\n",
              "\n",
              "  <svg xmlns=\"http://www.w3.org/2000/svg\" height=\"24px\" viewBox=\"0 -960 960 960\">\n",
              "    <path d=\"M120-120v-720h720v720H120Zm60-500h600v-160H180v160Zm220 220h160v-160H400v160Zm0 220h160v-160H400v160ZM180-400h160v-160H180v160Zm440 0h160v-160H620v160ZM180-180h160v-160H180v160Zm440 0h160v-160H620v160Z\"/>\n",
              "  </svg>\n",
              "    </button>\n",
              "\n",
              "  <style>\n",
              "    .colab-df-container {\n",
              "      display:flex;\n",
              "      gap: 12px;\n",
              "    }\n",
              "\n",
              "    .colab-df-convert {\n",
              "      background-color: #E8F0FE;\n",
              "      border: none;\n",
              "      border-radius: 50%;\n",
              "      cursor: pointer;\n",
              "      display: none;\n",
              "      fill: #1967D2;\n",
              "      height: 32px;\n",
              "      padding: 0 0 0 0;\n",
              "      width: 32px;\n",
              "    }\n",
              "\n",
              "    .colab-df-convert:hover {\n",
              "      background-color: #E2EBFA;\n",
              "      box-shadow: 0px 1px 2px rgba(60, 64, 67, 0.3), 0px 1px 3px 1px rgba(60, 64, 67, 0.15);\n",
              "      fill: #174EA6;\n",
              "    }\n",
              "\n",
              "    .colab-df-buttons div {\n",
              "      margin-bottom: 4px;\n",
              "    }\n",
              "\n",
              "    [theme=dark] .colab-df-convert {\n",
              "      background-color: #3B4455;\n",
              "      fill: #D2E3FC;\n",
              "    }\n",
              "\n",
              "    [theme=dark] .colab-df-convert:hover {\n",
              "      background-color: #434B5C;\n",
              "      box-shadow: 0px 1px 3px 1px rgba(0, 0, 0, 0.15);\n",
              "      filter: drop-shadow(0px 1px 2px rgba(0, 0, 0, 0.3));\n",
              "      fill: #FFFFFF;\n",
              "    }\n",
              "  </style>\n",
              "\n",
              "    <script>\n",
              "      const buttonEl =\n",
              "        document.querySelector('#df-edcba02f-f364-441b-b37e-89edda158df5 button.colab-df-convert');\n",
              "      buttonEl.style.display =\n",
              "        google.colab.kernel.accessAllowed ? 'block' : 'none';\n",
              "\n",
              "      async function convertToInteractive(key) {\n",
              "        const element = document.querySelector('#df-edcba02f-f364-441b-b37e-89edda158df5');\n",
              "        const dataTable =\n",
              "          await google.colab.kernel.invokeFunction('convertToInteractive',\n",
              "                                                    [key], {});\n",
              "        if (!dataTable) return;\n",
              "\n",
              "        const docLinkHtml = 'Like what you see? Visit the ' +\n",
              "          '<a target=\"_blank\" href=https://colab.research.google.com/notebooks/data_table.ipynb>data table notebook</a>'\n",
              "          + ' to learn more about interactive tables.';\n",
              "        element.innerHTML = '';\n",
              "        dataTable['output_type'] = 'display_data';\n",
              "        await google.colab.output.renderOutput(dataTable, element);\n",
              "        const docLink = document.createElement('div');\n",
              "        docLink.innerHTML = docLinkHtml;\n",
              "        element.appendChild(docLink);\n",
              "      }\n",
              "    </script>\n",
              "  </div>\n",
              "\n",
              "\n",
              "<div id=\"df-999fb947-f266-4c96-ace6-f6fd2827f6d3\">\n",
              "  <button class=\"colab-df-quickchart\" onclick=\"quickchart('df-999fb947-f266-4c96-ace6-f6fd2827f6d3')\"\n",
              "            title=\"Suggest charts.\"\n",
              "            style=\"display:none;\">\n",
              "\n",
              "<svg xmlns=\"http://www.w3.org/2000/svg\" height=\"24px\"viewBox=\"0 0 24 24\"\n",
              "     width=\"24px\">\n",
              "    <g>\n",
              "        <path d=\"M19 3H5c-1.1 0-2 .9-2 2v14c0 1.1.9 2 2 2h14c1.1 0 2-.9 2-2V5c0-1.1-.9-2-2-2zM9 17H7v-7h2v7zm4 0h-2V7h2v10zm4 0h-2v-4h2v4z\"/>\n",
              "    </g>\n",
              "</svg>\n",
              "  </button>\n",
              "\n",
              "<style>\n",
              "  .colab-df-quickchart {\n",
              "    background-color: #E8F0FE;\n",
              "    border: none;\n",
              "    border-radius: 50%;\n",
              "    cursor: pointer;\n",
              "    display: none;\n",
              "    fill: #1967D2;\n",
              "    height: 32px;\n",
              "    padding: 0 0 0 0;\n",
              "    width: 32px;\n",
              "  }\n",
              "\n",
              "  .colab-df-quickchart:hover {\n",
              "    background-color: #E2EBFA;\n",
              "    box-shadow: 0px 1px 2px rgba(60, 64, 67, 0.3), 0px 1px 3px 1px rgba(60, 64, 67, 0.15);\n",
              "    fill: #174EA6;\n",
              "  }\n",
              "\n",
              "  [theme=dark] .colab-df-quickchart {\n",
              "    background-color: #3B4455;\n",
              "    fill: #D2E3FC;\n",
              "  }\n",
              "\n",
              "  [theme=dark] .colab-df-quickchart:hover {\n",
              "    background-color: #434B5C;\n",
              "    box-shadow: 0px 1px 3px 1px rgba(0, 0, 0, 0.15);\n",
              "    filter: drop-shadow(0px 1px 2px rgba(0, 0, 0, 0.3));\n",
              "    fill: #FFFFFF;\n",
              "  }\n",
              "</style>\n",
              "\n",
              "  <script>\n",
              "    async function quickchart(key) {\n",
              "      const charts = await google.colab.kernel.invokeFunction(\n",
              "          'suggestCharts', [key], {});\n",
              "    }\n",
              "    (() => {\n",
              "      let quickchartButtonEl =\n",
              "        document.querySelector('#df-999fb947-f266-4c96-ace6-f6fd2827f6d3 button');\n",
              "      quickchartButtonEl.style.display =\n",
              "        google.colab.kernel.accessAllowed ? 'block' : 'none';\n",
              "    })();\n",
              "  </script>\n",
              "</div>\n",
              "    </div>\n",
              "  </div>\n"
            ]
          },
          "metadata": {},
          "execution_count": 87
        }
      ]
    },
    {
      "cell_type": "code",
      "source": [
        "inputs_np_array = df_input.to_numpy()\n",
        "targets_np_array = df_target.to_numpy()"
      ],
      "metadata": {
        "id": "uMRrfmwt1ApU"
      },
      "execution_count": 88,
      "outputs": []
    },
    {
      "cell_type": "code",
      "source": [
        "inputs_np_array"
      ],
      "metadata": {
        "colab": {
          "base_uri": "https://localhost:8080/"
        },
        "id": "Ibd5XFnD1PL5",
        "outputId": "a47d175a-3314-42f1-ba48-9c1201f11ce2"
      },
      "execution_count": 89,
      "outputs": [
        {
          "output_type": "execute_result",
          "data": {
            "text/plain": [
              "array([[63.,  1.,  3., ...,  0.,  0.,  1.],\n",
              "       [37.,  1.,  2., ...,  0.,  0.,  2.],\n",
              "       [41.,  0.,  1., ...,  2.,  0.,  2.],\n",
              "       ...,\n",
              "       [68.,  1.,  0., ...,  1.,  2.,  3.],\n",
              "       [57.,  1.,  0., ...,  1.,  1.,  3.],\n",
              "       [57.,  0.,  1., ...,  1.,  1.,  2.]])"
            ]
          },
          "metadata": {},
          "execution_count": 89
        }
      ]
    },
    {
      "cell_type": "code",
      "source": [
        "#targets_np_array"
      ],
      "metadata": {
        "id": "A-vKOq631UlB"
      },
      "execution_count": 90,
      "outputs": []
    },
    {
      "cell_type": "code",
      "source": [
        "inputs = torch.from_numpy(np.array(inputs_np_array, dtype='float32'))\n",
        "targets = torch.from_numpy(np.array(targets_np_array, dtype='float32'))"
      ],
      "metadata": {
        "id": "Va2BfBUz1aRw"
      },
      "execution_count": 92,
      "outputs": []
    },
    {
      "cell_type": "code",
      "source": [
        "print(inputs.dtype)\n",
        "inputs"
      ],
      "metadata": {
        "colab": {
          "base_uri": "https://localhost:8080/"
        },
        "id": "GBBgYT0V3S6g",
        "outputId": "45d88c21-f535-4e6b-a37c-c285bf87c0e5"
      },
      "execution_count": 93,
      "outputs": [
        {
          "output_type": "stream",
          "name": "stdout",
          "text": [
            "torch.float32\n"
          ]
        },
        {
          "output_type": "execute_result",
          "data": {
            "text/plain": [
              "tensor([[63.,  1.,  3.,  ...,  0.,  0.,  1.],\n",
              "        [37.,  1.,  2.,  ...,  0.,  0.,  2.],\n",
              "        [41.,  0.,  1.,  ...,  2.,  0.,  2.],\n",
              "        ...,\n",
              "        [68.,  1.,  0.,  ...,  1.,  2.,  3.],\n",
              "        [57.,  1.,  0.,  ...,  1.,  1.,  3.],\n",
              "        [57.,  0.,  1.,  ...,  1.,  1.,  2.]])"
            ]
          },
          "metadata": {},
          "execution_count": 93
        }
      ]
    },
    {
      "cell_type": "code",
      "source": [
        "print(targets.dtype)\n",
        "#target"
      ],
      "metadata": {
        "colab": {
          "base_uri": "https://localhost:8080/"
        },
        "id": "I1P1le7W3cAk",
        "outputId": "21e24fe8-c9c0-49fa-8b49-7d4fd23bc656"
      },
      "execution_count": 94,
      "outputs": [
        {
          "output_type": "stream",
          "name": "stdout",
          "text": [
            "torch.float32\n"
          ]
        }
      ]
    },
    {
      "cell_type": "code",
      "source": [
        "print(len(inputs[0]))\n",
        "print(len(targets[0]))\n",
        "print(len(inputs))\n",
        "print(len(targets))"
      ],
      "metadata": {
        "colab": {
          "base_uri": "https://localhost:8080/"
        },
        "id": "ZZZBhaIr3i6D",
        "outputId": "e512dc2f-9ebd-4624-e5ed-e4f9fe844769"
      },
      "execution_count": 95,
      "outputs": [
        {
          "output_type": "stream",
          "name": "stdout",
          "text": [
            "13\n",
            "1\n",
            "303\n",
            "303\n"
          ]
        }
      ]
    },
    {
      "cell_type": "code",
      "source": [
        "class HeartDiseaseNeuralNetworkModel(nn.Module):\n",
        "  def __init__(self):\n",
        "    super().__init__()\n",
        "    ## 13 input field will be used a feature, 100 is the hidden layer\n",
        "    self.linear1 = nn.Linear(13, 100)\n",
        "    self.linear2 = nn.Linear(100, 10)\n",
        "    self.linear3 = nn.Linear(10, 2)\n",
        "  def forward(self, x):\n",
        "    x = self.linear1(x)\n",
        "    print(x.shape)\n",
        "    x = self.linear2(x)\n",
        "    print(x.shape)\n",
        "    x = self.linear3(x)\n",
        "    print(x.shape)\n",
        "    return x"
      ],
      "metadata": {
        "id": "yHnF9RPV4pVB"
      },
      "execution_count": 112,
      "outputs": []
    },
    {
      "cell_type": "code",
      "source": [
        "hmodel = HeartDiseaseNeuralNetworkModel()"
      ],
      "metadata": {
        "id": "w_g0rzuf6vdg"
      },
      "execution_count": 113,
      "outputs": []
    },
    {
      "cell_type": "code",
      "source": [
        "t = torch.randn(303, 13)\n",
        "print(t.size)\n",
        "print(t.shape)\n",
        "print(t)"
      ],
      "metadata": {
        "colab": {
          "base_uri": "https://localhost:8080/"
        },
        "id": "8QURNWRD61Oj",
        "outputId": "e2a1bf1c-c78a-49ac-9249-cf7b5cf5772e"
      },
      "execution_count": 114,
      "outputs": [
        {
          "output_type": "stream",
          "name": "stdout",
          "text": [
            "<built-in method size of Tensor object at 0x7da5fa33bb00>\n",
            "torch.Size([303, 13])\n",
            "tensor([[-0.6273, -0.0633, -1.5067,  ...,  0.4434,  0.5599, -0.2937],\n",
            "        [ 0.5962, -0.8362,  0.7517,  ..., -0.5551, -0.2771, -1.3007],\n",
            "        [-2.4575, -1.1284,  1.2383,  ..., -0.0532, -1.8601, -0.9602],\n",
            "        ...,\n",
            "        [-0.9004,  0.3999, -0.8771,  ..., -0.0858,  1.3213, -1.6004],\n",
            "        [-0.6123,  0.9187, -0.8749,  ...,  0.1562,  1.9772,  0.6842],\n",
            "        [ 0.0870,  0.2418, -0.5100,  ...,  0.9767,  1.2105, -1.1037]])\n"
          ]
        }
      ]
    },
    {
      "cell_type": "code",
      "source": [
        "hm = hmodel(t)\n",
        "#hm"
      ],
      "metadata": {
        "colab": {
          "base_uri": "https://localhost:8080/"
        },
        "id": "ZnH_qPyY7nLQ",
        "outputId": "5e81bbf1-da83-40a8-b157-543aa9799ec3"
      },
      "execution_count": 115,
      "outputs": [
        {
          "output_type": "stream",
          "name": "stdout",
          "text": [
            "torch.Size([303, 100])\n",
            "torch.Size([303, 10])\n",
            "torch.Size([303, 2])\n"
          ]
        }
      ]
    },
    {
      "cell_type": "code",
      "source": [
        "hm.shape"
      ],
      "metadata": {
        "colab": {
          "base_uri": "https://localhost:8080/"
        },
        "id": "ZTg8Fap_-fIf",
        "outputId": "7d8df416-1e66-463b-9f5a-71e1726b2b39"
      },
      "execution_count": 116,
      "outputs": [
        {
          "output_type": "execute_result",
          "data": {
            "text/plain": [
              "torch.Size([303, 2])"
            ]
          },
          "metadata": {},
          "execution_count": 116
        }
      ]
    },
    {
      "cell_type": "markdown",
      "source": [
        "# MNIST Problom\n",
        "  *    http://yann.lecun.com/exdb/mnist/\n",
        "  *    60000 records with 28x28 images means -60,000 images with 784\n",
        "  *   Input -> (60000, 784)\n",
        "  *   Out -> 10 classes -> 0 to 9 digitas\n",
        "\n",
        "\n"
      ],
      "metadata": {
        "id": "6GbtBMpI88V5"
      }
    },
    {
      "cell_type": "code",
      "source": [
        "import torch\n",
        "import torch.nn as nn"
      ],
      "metadata": {
        "id": "9iu0N24PA-MV"
      },
      "execution_count": 121,
      "outputs": []
    },
    {
      "cell_type": "code",
      "source": [
        "class MNISTNeuralNetworkModel(nn.Module):\n",
        "  def __init__(self):\n",
        "    super().__init__()\n",
        "    # 13 input fields will be used a feature, 100 is the hidden layer\n",
        "    self.linear1 = nn.Linear(784, 1000)\n",
        "    self.linear2 = nn.Linear(1000, 100)\n",
        "    self.linear3 = nn.Linear(100, 10)\n",
        "    self.linear4 = nn.Linear(10, 10)\n",
        "  def forward(self, x):\n",
        "    x = self.linear1(x)\n",
        "    print(x.shape)\n",
        "    x = self.linear2(x)\n",
        "    print(x.shape)\n",
        "    x = self.linear3(x)\n",
        "    print(x.shape)\n",
        "    x = self.linear4(x)\n",
        "    print(x.shape)\n",
        "    return x"
      ],
      "metadata": {
        "id": "-kUfbasM95oZ"
      },
      "execution_count": 129,
      "outputs": []
    },
    {
      "cell_type": "code",
      "source": [
        "mnist_model = MNISTNeuralNetworkModel()"
      ],
      "metadata": {
        "id": "Fg711CG1AWPr"
      },
      "execution_count": 130,
      "outputs": []
    },
    {
      "cell_type": "code",
      "source": [
        "t = torch.randn(60000, 28*28)\n",
        "print(t.size)\n",
        "print(t.shape)\n",
        "print(t)\n"
      ],
      "metadata": {
        "colab": {
          "base_uri": "https://localhost:8080/"
        },
        "id": "qI13wzMz82Ax",
        "outputId": "36b0f29d-bffc-44ac-f55f-ad73de66d9f7"
      },
      "execution_count": 131,
      "outputs": [
        {
          "output_type": "stream",
          "name": "stdout",
          "text": [
            "<built-in method size of Tensor object at 0x7da5fabfa2f0>\n",
            "torch.Size([60000, 784])\n",
            "tensor([[-0.5226,  0.1526,  0.2450,  ...,  1.4973, -0.1384, -0.0592],\n",
            "        [ 0.3246, -0.4425,  0.4365,  ...,  0.1504,  2.0678,  0.7126],\n",
            "        [ 0.8928, -1.0750,  1.4245,  ...,  2.8937, -0.2091, -0.6694],\n",
            "        ...,\n",
            "        [ 0.7765, -0.7227,  1.1867,  ...,  0.5019,  1.6947,  2.0049],\n",
            "        [-0.6238, -0.7462, -1.3786,  ..., -0.1113, -0.1394,  1.0458],\n",
            "        [ 0.0306, -2.2686, -0.1752,  ..., -0.9635, -0.3883, -0.5464]])\n"
          ]
        }
      ]
    },
    {
      "cell_type": "code",
      "source": [
        "mn = mnist_model(t)"
      ],
      "metadata": {
        "colab": {
          "base_uri": "https://localhost:8080/"
        },
        "id": "VAYUX79JBR1R",
        "outputId": "dfa02f6b-ba83-497b-f63d-048772653127"
      },
      "execution_count": 132,
      "outputs": [
        {
          "output_type": "stream",
          "name": "stdout",
          "text": [
            "torch.Size([60000, 1000])\n",
            "torch.Size([60000, 100])\n",
            "torch.Size([60000, 10])\n",
            "torch.Size([60000, 10])\n"
          ]
        }
      ]
    },
    {
      "cell_type": "code",
      "source": [
        "mn.shape"
      ],
      "metadata": {
        "colab": {
          "base_uri": "https://localhost:8080/"
        },
        "id": "DaetmVjEBbrM",
        "outputId": "e368717a-7ccf-4cdd-cc95-74d6dc2a1200"
      },
      "execution_count": 133,
      "outputs": [
        {
          "output_type": "execute_result",
          "data": {
            "text/plain": [
              "torch.Size([60000, 10])"
            ]
          },
          "metadata": {},
          "execution_count": 133
        }
      ]
    },
    {
      "cell_type": "markdown",
      "source": [
        "# Using nn.Parameters\n",
        "Parameters are Tensor subclasses, that have a very special property when used with Module - when they're assigned as module attributes they are automatically added to the list parameters, and will appear in parameters()iterator\n",
        "\n",
        "*   source:\n",
        "  *   https://www.kdnuggets.com/2020/09/most-complete-guide-pytorch-data-scientists.html\n",
        "\n",
        "# Custom Linear Layer\n"
      ],
      "metadata": {
        "id": "P8IN2vDxtWgX"
      }
    },
    {
      "cell_type": "code",
      "source": [
        "import torch\n",
        "import torch.nn as nn"
      ],
      "metadata": {
        "id": "QCYi7vFI0FgH"
      },
      "execution_count": 74,
      "outputs": []
    },
    {
      "cell_type": "code",
      "source": [
        "class myCustomerLinearLayer(nn.Module):\n",
        "    def __init__(self, in_size, out_size):\n",
        "        super().__init__()\n",
        "        self.weights = nn.Parameter(torch.randn(in_size, out_size))\n",
        "        self.bias = nn.Parameter(torch.zeros(out_size))\n",
        "\n",
        "    def forward(self, x):\n",
        "      print(\" weights Shape: \", self.weights.shape)\n",
        "      print(\" Bias Shape: \", self.bias.shape)\n",
        "      return x.mm(self.weights) + self.bias"
      ],
      "metadata": {
        "id": "OQtNfwpZxqeu"
      },
      "execution_count": 84,
      "outputs": []
    },
    {
      "cell_type": "markdown",
      "source": [
        "# Customer Neural Network"
      ],
      "metadata": {
        "id": "apJ-upA0yn3m"
      }
    },
    {
      "cell_type": "code",
      "source": [
        "class myCustomNeuralNet(nn.Module):\n",
        "    def __init__(self):\n",
        "        super().__init__()\n",
        "        self.lin1 = myCustomerLinearLayer(784, 10)  # Adjust the input size\n",
        "\n",
        "    def forward(self, x):\n",
        "        x = self.lin1(x)\n",
        "        print(x.shape)\n",
        "        return x"
      ],
      "metadata": {
        "id": "9DobhFyhyspf"
      },
      "execution_count": 85,
      "outputs": []
    },
    {
      "cell_type": "code",
      "source": [
        "# Input: 100 records of dimensions 784\n",
        "x = torch.randn((100, 784))"
      ],
      "metadata": {
        "id": "5JmKhOTM0SUu"
      },
      "execution_count": 86,
      "outputs": []
    },
    {
      "cell_type": "code",
      "source": [
        "# Define the model\n",
        "model = myCustomNeuralNet()"
      ],
      "metadata": {
        "id": "1sXbf-HE24Ca"
      },
      "execution_count": 87,
      "outputs": []
    },
    {
      "cell_type": "code",
      "source": [
        "model(x)"
      ],
      "metadata": {
        "colab": {
          "base_uri": "https://localhost:8080/"
        },
        "id": "J_v9s9EB4Mji",
        "outputId": "0a905d9b-92ec-44dd-8198-b7ccaffd76af"
      },
      "execution_count": 88,
      "outputs": [
        {
          "output_type": "stream",
          "name": "stdout",
          "text": [
            " weights Shape:  torch.Size([784, 10])\n",
            " Bias Shape:  torch.Size([10])\n",
            "torch.Size([100, 10])\n"
          ]
        },
        {
          "output_type": "execute_result",
          "data": {
            "text/plain": [
              "tensor([[ 3.3110e-01, -2.0924e+01, -3.2166e+01,  6.5045e+00,  3.2366e+01,\n",
              "          3.6833e+00,  2.7226e+01, -7.7774e-01,  3.5239e+01, -1.6868e+01],\n",
              "        [-9.2102e+00, -4.5902e+01, -1.9656e+01, -3.0918e+00, -6.7738e+01,\n",
              "         -2.9155e+00, -2.6896e+01, -3.8674e+01,  1.3331e+01,  1.5959e+01],\n",
              "        [-2.4977e+01, -3.4876e+01, -1.4650e+01, -2.7795e+01,  2.1991e+01,\n",
              "         -4.2140e+01, -1.7736e+00,  1.2261e+01, -1.0993e+01,  1.0930e+01],\n",
              "        [ 4.7138e+01,  3.2648e+00, -2.2819e+01,  1.2349e+01,  1.0493e+01,\n",
              "         -3.5175e+01, -6.3644e+00, -3.8239e+00, -1.3791e+01,  5.6068e+00],\n",
              "        [-4.2811e+00, -3.0722e+00,  5.3636e+00,  1.3219e+01, -5.5361e+00,\n",
              "         -4.2551e+00, -5.0799e+00,  3.9320e+01, -7.9958e+00,  1.5289e+01],\n",
              "        [ 2.1774e+01,  4.1135e+01,  2.0965e+01,  3.1222e+01, -9.5659e+00,\n",
              "          8.7935e+00,  5.7746e+00, -1.9918e+01,  1.0317e+01,  3.1214e+01],\n",
              "        [-8.4625e+00, -5.3550e+00,  3.1182e+01, -7.1349e+01,  1.8269e+01,\n",
              "         -4.2095e+01,  1.7367e+01, -1.9283e+01, -4.9817e+01,  2.3369e+01],\n",
              "        [-2.2117e+01,  1.2665e+01,  5.4608e+01, -9.4703e+00, -4.7855e+01,\n",
              "         -7.9306e+00,  2.3846e+01, -6.3157e-01, -2.1254e+00, -2.2381e+01],\n",
              "        [-1.0452e+01, -2.4637e+01, -6.7883e+00, -2.9394e+01,  6.3071e+00,\n",
              "          2.9752e+01, -2.4423e+00, -2.3642e+01, -9.4688e+01,  1.6640e+01],\n",
              "        [ 3.1167e+01, -4.2766e+01,  1.8219e+01, -1.8421e+01,  1.5151e+01,\n",
              "         -5.3047e+01,  3.1896e+01,  5.4227e+01,  3.2818e+01, -1.2618e+01],\n",
              "        [ 1.2027e+01, -2.7877e+01, -1.7626e+01, -4.1944e+01, -3.4353e+01,\n",
              "          6.8117e+00, -5.7681e+01,  7.3109e+01,  8.8213e-01,  2.3894e+01],\n",
              "        [ 1.1966e+01,  3.2175e+01, -2.2325e+01, -9.0869e+00, -2.5881e+01,\n",
              "          2.5222e+01, -8.7955e+00, -1.5852e+01, -2.2377e+00, -1.5571e+01],\n",
              "        [ 1.9772e+00, -1.1739e+01, -5.2627e+01, -5.2907e+01,  3.1137e+01,\n",
              "          4.4306e-01,  4.8026e+01,  6.0818e+01, -2.0923e+01,  5.9527e+00],\n",
              "        [ 1.9027e+01, -3.0013e+01,  2.5943e+01, -3.6222e+01,  3.3342e+01,\n",
              "         -3.2667e+01,  7.0001e+00, -2.7648e+01, -4.4217e+01, -4.9075e+01],\n",
              "        [ 5.3516e+00, -2.1439e+01, -3.1189e+01,  2.0634e+01,  9.6315e+00,\n",
              "         -3.0153e+01, -4.2403e+01, -4.3608e+00,  1.6540e+01,  1.4823e+01],\n",
              "        [ 6.8595e+00,  3.5356e+01,  1.0492e+01,  9.8327e-01, -1.5465e+00,\n",
              "          5.8574e+01, -3.1186e+01, -1.8694e+01, -3.8974e+01,  2.6165e+01],\n",
              "        [-5.6545e+00,  5.9979e+00,  2.9082e+00,  7.3835e+01,  4.3916e+01,\n",
              "         -1.9085e+01,  5.5963e+01,  3.2068e+00, -2.5792e+01,  9.7244e+00],\n",
              "        [ 1.2583e+01, -6.6019e-01,  3.1373e+01, -1.4470e+01, -1.9317e+01,\n",
              "         -6.7411e+01,  1.1608e+01, -5.8103e+00, -2.2383e+01,  3.4196e+01],\n",
              "        [-7.5540e+00,  2.3232e+01,  5.1250e+01,  1.6665e+00,  6.3923e+01,\n",
              "          4.1783e+01,  8.8733e-01, -7.9542e+00, -5.2085e+01, -2.4470e+01],\n",
              "        [-8.1952e+00, -6.8969e+00,  1.1239e+01, -5.3590e+01,  2.8015e+01,\n",
              "          3.6014e+01, -4.0835e+01, -3.2895e+01,  7.6746e+00,  1.3598e+01],\n",
              "        [ 2.3578e+01, -6.7849e+00,  2.9293e+01,  2.5617e+01,  2.4148e+01,\n",
              "          3.0142e+01,  8.0919e-01, -2.3462e+00, -6.1926e+00,  3.4110e+01],\n",
              "        [-1.6845e+01,  2.6063e+01, -1.4601e+01,  2.4591e+01, -3.9572e+00,\n",
              "          2.5022e+01, -1.3639e+01,  2.7292e+01, -4.0857e+01, -7.8613e+00],\n",
              "        [ 2.2721e+01, -2.4120e+00, -1.1160e+01, -2.1248e+01,  3.0564e+01,\n",
              "          4.5249e+01, -9.9442e-01,  3.5025e+01,  7.3109e+00, -3.7421e+01],\n",
              "        [-2.6231e+01,  2.7003e+01,  2.2359e+01,  2.7799e+01, -1.6688e+01,\n",
              "         -1.0877e+01, -6.7076e+00, -2.3762e+00,  2.0161e+01, -4.4132e+00],\n",
              "        [ 6.3262e+00,  3.6466e+00,  1.6777e+01, -1.1926e+01,  8.2811e+00,\n",
              "          7.9245e+00, -4.1178e+01, -2.1631e+01,  1.0788e-01,  1.3116e+00],\n",
              "        [-1.7317e+01, -3.1752e+01,  3.4726e+01, -2.4080e+01, -2.6079e+00,\n",
              "         -1.4087e+00,  2.3597e+00,  2.0093e+01, -3.7096e+01, -3.6668e+01],\n",
              "        [-2.5520e+01,  1.4995e+00,  1.4702e+01, -2.2432e+01,  2.2785e+01,\n",
              "          2.2169e+01, -2.2301e+01, -4.4672e+01,  8.7533e+00, -8.0929e+00],\n",
              "        [ 2.1661e+01, -1.1022e+01,  1.5817e+01,  1.6423e+01,  3.4967e+01,\n",
              "         -5.0902e+00, -2.3584e+01, -6.2674e+00, -3.6521e+01, -6.0142e+00],\n",
              "        [-6.6454e+00,  2.3703e+01,  2.3641e+01,  3.6650e+01,  4.1701e+00,\n",
              "          6.8562e+00,  9.2331e+00,  1.8342e+01,  2.7574e+01,  2.4365e+01],\n",
              "        [ 3.8870e+00, -9.3787e-01, -3.6410e+01, -1.8196e+01, -3.1023e+01,\n",
              "         -3.7669e+01,  8.5491e+00,  3.3896e+01, -7.8951e+00,  1.0335e+01],\n",
              "        [ 5.4545e+00, -6.5293e+01,  1.8443e+01,  2.5792e+01, -2.4500e+01,\n",
              "          1.3807e+01, -4.6316e+01,  1.0175e+01,  4.8642e+01,  1.6643e+01],\n",
              "        [ 3.8548e+00, -1.3132e+01, -7.1895e+00, -9.1609e+01,  1.5208e+01,\n",
              "         -4.2199e+01, -1.8725e+01,  1.3734e+01,  4.4055e+00, -1.1983e+01],\n",
              "        [ 6.0580e+00,  1.5431e+01,  2.1931e+01, -3.1182e+01,  3.8585e+01,\n",
              "          3.9339e+01,  1.8978e+01,  2.6835e+01, -6.1900e+00, -5.4717e+01],\n",
              "        [-8.4088e+00,  5.1509e+01, -4.1554e+01, -3.9691e+01, -5.2118e+00,\n",
              "         -7.5942e-01,  1.0931e+01, -2.0390e+00, -1.9612e+01,  6.2270e+00],\n",
              "        [ 1.3579e+01, -2.7117e+01,  5.7669e+00, -2.0750e+01,  2.9090e+01,\n",
              "          7.0389e-01, -5.5679e+00,  2.0141e+00,  4.3272e+00, -4.6232e+01],\n",
              "        [-1.5246e+01, -3.2232e+01,  7.6815e+00, -3.9278e+01,  1.3300e+00,\n",
              "          4.7343e+00,  2.8686e+01,  3.4325e+01,  2.2971e+00,  1.5692e+01],\n",
              "        [ 7.9733e+00,  1.7885e+01, -2.8575e+01, -2.4456e+00, -7.4220e+00,\n",
              "          1.1942e+01, -1.9038e+01, -2.0031e+01, -3.3872e+00, -3.9616e+01],\n",
              "        [ 1.2282e+01,  2.3278e+01, -4.0382e-01,  8.3733e+00, -1.0808e+01,\n",
              "         -2.4667e+01,  5.2094e+01,  6.0126e+00,  5.2444e+01,  9.9471e-02],\n",
              "        [ 2.0820e+01,  4.8002e+01, -1.1956e+00,  1.8554e+01,  4.3166e+00,\n",
              "         -2.8909e+01,  1.4787e+00, -3.8943e+01,  1.6896e+01,  1.9767e+01],\n",
              "        [ 1.0833e+01, -4.5083e+01, -3.0047e+00,  2.7400e+01,  1.6177e+01,\n",
              "          9.4269e+00,  2.4652e+01,  2.8299e+00, -5.7587e+00, -3.4189e+01],\n",
              "        [-3.4123e+01,  7.2989e+00, -4.3008e+01, -1.0832e+01, -1.7207e+01,\n",
              "          3.1312e+00,  6.4014e+01, -1.2964e+01,  6.5560e+01,  1.8142e+01],\n",
              "        [-4.8986e+01, -8.2815e-01, -2.6388e+01, -3.7009e+01,  4.7767e+00,\n",
              "         -1.7768e+01, -1.3519e+01,  1.2751e+01,  1.8253e+01, -3.0831e+01],\n",
              "        [-3.9024e+01, -2.0958e+01,  2.4632e+01,  7.1015e+00, -1.8410e+01,\n",
              "          2.4991e+01, -5.4486e+00, -5.3646e+01, -2.6208e+01, -1.3963e+01],\n",
              "        [-2.2780e+01, -1.1577e+01,  1.2292e+01, -3.3424e-01,  2.7946e+01,\n",
              "         -8.2700e-02, -2.7604e+01,  2.8859e+01,  3.6684e+01,  8.7350e+00],\n",
              "        [ 6.0560e+00,  6.2937e+01,  2.4350e+01, -1.9500e+01, -1.3999e+01,\n",
              "          8.2681e+00,  3.6888e+01, -1.0885e+01, -2.2697e+01, -2.5071e+01],\n",
              "        [-7.1891e+01,  2.3272e+01, -4.9009e+01,  2.1942e+01, -3.8130e+01,\n",
              "          3.2762e+01, -4.7527e+00,  1.7873e+01, -8.6772e+00, -1.7553e+01],\n",
              "        [-1.4368e+01,  1.4964e+01,  2.9929e+01, -2.6116e+01, -2.5103e+01,\n",
              "         -4.1800e+00, -1.5691e+01,  2.4522e+01,  2.2328e+01,  1.2241e+01],\n",
              "        [-4.5515e+01,  2.4609e+01,  1.2948e+00,  4.1388e+01,  2.0405e+01,\n",
              "          4.8883e+01,  2.5914e+01, -2.5791e+01,  2.9726e+01,  3.5621e+00],\n",
              "        [ 5.5216e+00, -6.8729e+00, -2.3223e+00,  1.4673e+01,  2.8474e+01,\n",
              "          4.0012e+01, -1.1954e+01,  2.4282e+01, -3.7391e+01,  1.1752e+01],\n",
              "        [-1.4327e+01,  4.1269e+00,  3.1798e+01, -3.9162e+01,  2.1922e+01,\n",
              "         -1.7061e+01, -1.9093e+01,  5.0328e+01,  2.8762e+01,  1.8234e+01],\n",
              "        [ 2.6043e+01,  4.2045e+01,  4.1596e+00,  2.1730e+01,  4.9711e+01,\n",
              "         -2.7861e+01, -7.1686e+00,  1.0219e+01, -2.2800e+01, -1.6806e+01],\n",
              "        [-6.4792e+00,  1.0394e+01, -6.4641e+00, -2.3961e+00, -3.8886e+01,\n",
              "         -4.5843e+01,  3.1370e+01,  4.4192e+01,  1.0166e+01,  5.6690e-01],\n",
              "        [ 2.9135e+00, -1.0675e+00,  6.5688e+00,  2.8759e+01,  1.9893e+01,\n",
              "          2.4846e+01,  1.8436e+00, -1.5179e+01, -1.1161e+01, -6.1382e+01],\n",
              "        [ 3.7571e+01,  9.4716e+00, -4.6456e+01,  1.1490e+01, -4.9533e+01,\n",
              "          2.8050e+01, -1.1130e+01,  1.3666e+01, -1.3175e+01,  3.1270e+01],\n",
              "        [-1.7497e+00, -8.5764e+00,  1.7300e+01, -3.2862e+01, -1.8653e+00,\n",
              "          3.5297e+00, -4.4576e+00,  3.0927e+01,  3.2658e+01,  7.1517e+01],\n",
              "        [ 3.8686e+01, -2.5209e+01, -1.3788e+01,  3.6069e+01, -2.4229e+01,\n",
              "          2.1861e+01, -1.0310e+01,  7.6042e+00, -6.3409e+00, -2.5022e+01],\n",
              "        [ 1.8413e+01, -3.2978e+01, -1.0337e+01,  1.3799e+00,  3.6899e+01,\n",
              "          1.1187e+01, -2.4657e+01, -1.4126e+01, -1.0459e+01,  2.7410e+01],\n",
              "        [ 2.6129e+01, -1.8672e+01,  2.4019e+01,  3.7804e+00,  3.7771e+01,\n",
              "         -2.3394e+01,  4.6886e+01, -2.9904e+01,  2.5517e+01,  7.4149e+00],\n",
              "        [ 6.1660e+00,  1.5306e+01, -4.0584e+01, -4.7074e+01, -5.6476e+01,\n",
              "          1.1743e+01, -1.4456e+01, -1.6310e+01,  5.3145e+01,  1.2245e+01],\n",
              "        [ 9.7146e+00,  5.7315e+00,  3.0997e+01, -4.2431e+00, -3.2760e+00,\n",
              "          8.5504e+01,  6.2235e+01, -6.0744e+01,  2.7802e+01,  3.2585e+01],\n",
              "        [ 2.2832e+01,  5.2300e+00, -5.7107e+01, -2.9304e+01,  4.5403e+01,\n",
              "         -2.5512e+00, -2.5240e+01, -2.2872e+01, -1.0818e+01,  1.4861e+00],\n",
              "        [-1.1342e+01, -2.5392e+01, -8.9444e+00,  2.2308e+01, -1.2052e+01,\n",
              "          2.1437e+00,  2.4286e+01,  6.9257e-01, -3.6398e+01, -1.7654e+01],\n",
              "        [ 2.9896e+01, -3.7310e+01,  4.8390e+01, -5.0990e+00,  1.8062e+01,\n",
              "          1.2241e+01,  8.7770e+00,  2.6397e+01,  4.5497e+00, -7.0153e+00],\n",
              "        [ 1.0964e+01, -1.4475e+01, -1.3887e+01,  5.5749e+00, -1.5777e+01,\n",
              "         -1.0365e+01, -1.8932e+01,  4.3777e+00, -1.2514e+01,  1.9104e+00],\n",
              "        [-8.0412e-01,  8.7204e+00,  5.0423e+01, -1.2195e+01, -3.5863e+00,\n",
              "          2.1297e+01, -2.7285e+00, -1.3058e+01, -8.1436e-01, -2.8744e+01],\n",
              "        [-2.8331e+01,  2.0693e+01,  1.1609e+01, -3.3478e-01,  2.4641e+00,\n",
              "         -1.2865e+01,  2.8484e+01,  3.2424e+01,  3.2798e+01, -1.1912e+01],\n",
              "        [-4.6139e+01, -6.5441e+00, -1.7118e+01, -5.3386e+00,  2.8439e+00,\n",
              "          2.3654e+01, -2.6441e+01, -1.6392e+01, -4.5504e+00,  9.8078e+00],\n",
              "        [ 1.0663e-01, -2.1654e+01,  2.5444e+00, -2.0206e+01, -4.5363e+01,\n",
              "         -1.5803e+01,  9.5622e+00,  1.9817e+01, -4.9913e+01,  6.8498e+00],\n",
              "        [-3.0426e+01,  6.7772e+00,  2.7658e+01, -4.9907e+00, -1.7833e-01,\n",
              "         -3.6756e+01, -1.6015e+01,  1.1145e+01, -7.7179e+00,  2.5874e-01],\n",
              "        [ 6.7661e+00, -8.3367e+00,  1.4550e+01,  2.2336e+01, -3.8112e+00,\n",
              "         -6.9595e+01,  2.1513e+01, -1.2361e+01,  1.6954e+01,  4.3117e+01],\n",
              "        [-3.6278e+00, -9.9601e+00,  2.9244e+00,  2.2231e+01,  1.3305e+01,\n",
              "          3.3951e+01,  6.8834e+01,  1.6515e+01,  1.6384e+01, -2.8461e+01],\n",
              "        [-6.1970e+00, -4.1758e+00, -7.8923e+00, -7.3667e+00, -3.8957e+01,\n",
              "          4.3728e+01,  2.1604e+01,  7.5058e+00,  2.0984e+01, -2.7304e+01],\n",
              "        [ 2.8512e+01, -3.9683e+00,  1.0968e+01, -2.8180e+01, -2.4504e+01,\n",
              "         -5.6175e+00, -2.1028e-01,  3.5673e+01,  2.3072e+01, -2.4041e+00],\n",
              "        [-6.2751e+00,  6.2022e+01,  3.7772e+00,  3.5817e+01, -9.7356e+00,\n",
              "          2.2517e+01,  6.5640e+01, -6.1975e+01, -4.1736e+00,  2.3287e+01],\n",
              "        [ 3.5624e+01, -2.3695e+01, -6.0259e+01,  3.2459e+01, -1.3066e+01,\n",
              "          4.4888e+00,  2.6025e+01,  3.9834e+01, -2.9206e+01,  6.8824e+01],\n",
              "        [-3.7516e+01, -3.0307e+01, -2.2741e+01,  1.0954e+01, -3.9628e+01,\n",
              "         -1.4602e+01,  3.4855e+01, -1.4668e+01, -1.1329e+01, -2.0022e+00],\n",
              "        [-2.3525e+01,  8.0506e+00, -2.9470e+00,  3.0225e+01,  1.6369e+01,\n",
              "          7.5477e+00,  2.8983e+01,  1.2359e+00, -5.5291e+00,  2.8611e+00],\n",
              "        [-1.6148e+01,  2.7504e+01, -4.4225e+01,  4.6588e+00, -1.3421e+00,\n",
              "         -2.8085e+01, -4.2479e+00,  8.6146e+00, -1.6616e+01,  1.6618e+01],\n",
              "        [ 8.0978e+01,  4.3027e+01,  3.7782e+00,  1.0353e+00, -3.7937e+01,\n",
              "          7.2851e+00, -2.3955e+01, -2.5067e+01,  3.1203e+00,  1.9638e+01],\n",
              "        [ 2.8647e+01, -3.0472e+01, -4.6313e+00, -1.3342e+01,  6.0420e+01,\n",
              "         -2.6623e+01,  6.3722e+00, -1.2931e+01, -9.9118e+00, -3.8967e+01],\n",
              "        [ 9.5511e+00,  6.4754e+01, -3.2399e+01, -3.5516e+00, -4.7080e+01,\n",
              "         -1.0687e+01, -2.0103e+01,  2.7447e+01,  3.4352e+01, -1.6826e+01],\n",
              "        [-1.0766e+01, -1.3925e+00,  3.8438e+01,  1.0710e+00, -1.6404e+01,\n",
              "         -4.3345e+01,  2.0073e+01,  1.9737e+00, -4.8354e+01, -5.7433e+01],\n",
              "        [ 3.5386e+01, -2.3504e+01,  2.6516e+00, -1.8787e+01,  6.9147e+01,\n",
              "          2.0284e+01, -5.1207e+01,  3.8989e+00,  3.0487e+01,  1.4308e+01],\n",
              "        [ 1.5900e+00, -7.9071e+00,  5.6217e+01, -1.3400e+01,  9.9709e+00,\n",
              "         -4.5160e-01,  5.8688e+01, -3.9472e+00, -1.5899e+01, -1.2049e+01],\n",
              "        [ 7.2892e+01, -1.8112e+01,  3.0700e+01,  1.9199e+01, -1.1459e+01,\n",
              "          5.3770e+00, -2.8502e+01, -2.3803e+01,  2.0607e+01, -5.4455e+01],\n",
              "        [-4.6904e+01, -2.1077e+01,  2.8125e+01,  1.4262e+01, -1.8364e+01,\n",
              "         -2.9032e+01,  1.2038e+01, -7.5679e+01, -2.1749e+01, -4.4763e-01],\n",
              "        [ 5.9545e+00,  7.0053e+00, -1.5066e+01,  2.3116e+01, -5.4908e+01,\n",
              "          1.6560e+01,  2.4545e+01,  3.2336e+01, -2.0829e+01, -4.0535e+01],\n",
              "        [ 6.7634e+00, -3.2987e+01,  1.3011e+01,  3.5837e+01,  2.8194e+01,\n",
              "          2.3675e+01,  6.8380e+00, -3.1622e+01, -4.6691e+00,  4.5238e+00],\n",
              "        [ 1.6715e+01, -1.0979e+01,  8.4970e+00,  4.2121e+01, -2.8124e+01,\n",
              "         -1.9717e+01,  7.8691e+01,  3.4119e+01, -4.9879e+01,  2.2939e+01],\n",
              "        [-9.5298e+00,  1.3149e+01,  5.3285e+01,  4.6870e+01,  1.5348e+01,\n",
              "         -7.4646e+00,  3.3942e+00, -3.6592e+01,  1.2645e+01, -6.9507e+00],\n",
              "        [ 4.4910e+01,  3.3487e+01, -2.8483e+01, -1.4297e+01,  2.3689e+01,\n",
              "          3.5925e+01, -2.0341e+01, -5.1454e+01,  1.1371e+01,  2.1335e-02],\n",
              "        [-4.2599e+00,  3.9591e+01, -1.1495e+00,  6.1365e+00, -4.4150e+01,\n",
              "          3.8399e+01,  9.1312e+00,  4.3217e+01,  4.0352e+01,  7.4334e+00],\n",
              "        [-2.3464e+00,  5.9075e+01, -3.6745e+01,  1.9792e+01,  9.2390e+00,\n",
              "         -2.4289e+01, -3.6969e+01,  1.8130e+01,  6.4179e+00,  1.3504e+01],\n",
              "        [ 7.7981e+00, -1.9679e+01, -1.5709e+01, -4.0890e+01,  1.2635e+01,\n",
              "         -2.8946e+00,  4.2281e+01,  6.6934e+01, -2.0830e+01,  1.9463e+01],\n",
              "        [-4.3765e+01,  1.7331e+01, -2.5794e+01,  1.0933e+00,  3.4228e+01,\n",
              "         -6.2311e+00,  2.7433e+01, -2.7797e+01, -3.0717e+01, -1.9025e+01],\n",
              "        [ 2.8633e+01, -5.4931e+01, -3.6027e+01, -1.0437e+01, -2.0543e+01,\n",
              "         -2.9645e+01, -1.0430e+01,  3.5876e+01,  8.9247e+00,  2.2327e+01],\n",
              "        [ 3.0319e+01,  2.5641e+01,  4.3961e+00,  2.3181e+01, -2.3313e+01,\n",
              "         -1.4978e+01,  3.7256e+01, -3.3931e+01,  5.4803e+01, -3.5060e+00],\n",
              "        [ 1.0750e+01, -2.7363e+00, -8.6724e+00,  4.8107e+01,  3.4657e+01,\n",
              "          3.0726e+00,  1.2171e+01, -6.3872e-01,  1.8666e+01, -3.9031e+00],\n",
              "        [ 2.0903e+00, -2.5508e+01,  4.3344e+01, -1.4235e+01, -7.4109e+01,\n",
              "          1.7100e+01, -2.8750e+01,  4.0212e+00,  2.0967e+01, -2.3264e+01],\n",
              "        [ 1.0493e+01, -6.2541e+00,  1.9195e+01, -1.7190e+01,  2.9890e+00,\n",
              "         -3.0220e+01, -1.0611e+00,  1.5720e+01, -4.3000e+01, -1.6394e+01]],\n",
              "       grad_fn=<AddBackward0>)"
            ]
          },
          "metadata": {},
          "execution_count": 88
        }
      ]
    },
    {
      "cell_type": "code",
      "source": [
        "mm = model(x)\n"
      ],
      "metadata": {
        "colab": {
          "base_uri": "https://localhost:8080/"
        },
        "id": "Qtk4yDLw0o0C",
        "outputId": "e95cb592-5da6-483f-f777-c4b410755861"
      },
      "execution_count": 89,
      "outputs": [
        {
          "output_type": "stream",
          "name": "stdout",
          "text": [
            " weights Shape:  torch.Size([784, 10])\n",
            " Bias Shape:  torch.Size([10])\n",
            "torch.Size([100, 10])\n"
          ]
        }
      ]
    },
    {
      "cell_type": "code",
      "source": [
        "mm.size()"
      ],
      "metadata": {
        "colab": {
          "base_uri": "https://localhost:8080/"
        },
        "id": "VY0yAR8s13uD",
        "outputId": "98fd3189-fb12-4712-82d4-7f0dafdbbfff"
      },
      "execution_count": 90,
      "outputs": [
        {
          "output_type": "execute_result",
          "data": {
            "text/plain": [
              "torch.Size([100, 10])"
            ]
          },
          "metadata": {},
          "execution_count": 90
        }
      ]
    },
    {
      "cell_type": "code",
      "source": [
        "mm.shape"
      ],
      "metadata": {
        "colab": {
          "base_uri": "https://localhost:8080/"
        },
        "id": "kJXIOCUl2Og1",
        "outputId": "d5762ca2-05dd-4df4-895e-7b85bdea3386"
      },
      "execution_count": 91,
      "outputs": [
        {
          "output_type": "execute_result",
          "data": {
            "text/plain": [
              "torch.Size([100, 10])"
            ]
          },
          "metadata": {},
          "execution_count": 91
        }
      ]
    },
    {
      "cell_type": "code",
      "source": [
        "class myCrazyNeuralNet(nn.Module):\n",
        "  def __init__(self):\n",
        "    super().__init__()\n",
        "    # Define all Layers Here\n",
        "    self.lin1 = nn.Linear(788, 30)\n",
        "    self.lin2 = nn.Linear(30, 784)\n",
        "    self.line3 = nn.Linear(30, 10)\n"
      ],
      "metadata": {
        "id": "WS7bWo8o1FHi"
      },
      "execution_count": 92,
      "outputs": []
    },
    {
      "cell_type": "code",
      "source": [
        "import torch\n",
        "import torch.nn as nn\n",
        "\n",
        "class myCustomerLinearLayer(nn.Module):\n",
        "    def __init__(self, in_size, out_size):\n",
        "        super().__init__()\n",
        "        self.weights = nn.Parameter(torch.randn(in_size, out_size))\n",
        "        self.bias = nn.Parameter(torch.zeros(out_size))\n",
        "\n",
        "    def forward(self, x):\n",
        "        return x.mm(self.weights) + self.bias\n",
        "\n",
        "class myCustomNeuralNet(nn.Module):\n",
        "    def __init__(self):\n",
        "        super().__init__()\n",
        "        self.lin1 = myCustomerLinearLayer(784, 10)  # Adjust the input size\n",
        "\n",
        "    def forward(self, x):\n",
        "        x = self.lin1(x)\n",
        "        print(x.shape)\n",
        "        return x\n",
        "\n",
        "# Input: 100 records of dimensions 784\n",
        "x = torch.randn((100, 784))\n",
        "\n",
        "# Define the model\n",
        "model = myCustomNeuralNet()\n",
        "\n",
        "model(x)\n"
      ],
      "metadata": {
        "colab": {
          "base_uri": "https://localhost:8080/"
        },
        "id": "6yNY_VYn9Bgw",
        "outputId": "1f4b326e-0afe-4bcc-9c7e-1cef280070d5"
      },
      "execution_count": 93,
      "outputs": [
        {
          "output_type": "stream",
          "name": "stdout",
          "text": [
            "torch.Size([100, 10])\n"
          ]
        },
        {
          "output_type": "execute_result",
          "data": {
            "text/plain": [
              "tensor([[ 2.0591e+01, -3.1537e+01, -1.7667e+00, -1.2647e+01,  5.8561e+01,\n",
              "         -1.7585e+01,  1.5893e+01,  7.9093e+00,  5.2589e+01, -4.4071e+01],\n",
              "        [-3.8818e+01, -1.3759e+00, -2.2998e+01,  3.6576e+01, -1.6008e+01,\n",
              "          1.8117e+01,  2.2479e+01, -3.7675e+01, -7.5605e+00,  2.3523e+01],\n",
              "        [ 3.6988e+01, -1.4129e-01,  3.3830e+01, -2.1945e+01, -6.1704e+01,\n",
              "          2.3504e+01,  3.6632e+00, -1.8091e+01, -3.4311e+01, -8.7798e+00],\n",
              "        [ 1.9666e+00, -1.3112e+01,  1.5496e+01, -2.1449e+01,  2.7214e+01,\n",
              "         -1.0266e+01,  2.1534e+01, -3.2413e-01,  6.8455e+01,  4.9255e+00],\n",
              "        [-3.3203e+01,  2.7281e+01,  6.5451e+00,  5.2729e+00, -2.1861e+00,\n",
              "          1.6094e+01,  2.2574e+01,  2.7326e+01, -1.4769e+01,  1.9765e+01],\n",
              "        [-4.6432e+00,  1.2082e+01, -5.4680e+01,  1.0645e+01, -9.6533e+00,\n",
              "         -6.4005e+00,  9.4817e+00, -1.9652e+01, -3.4650e+00, -1.2257e+01],\n",
              "        [ 1.5888e+01,  3.5970e+01,  3.7234e+01,  2.4955e+01,  1.3322e+01,\n",
              "          2.4594e+00, -3.4067e+00,  2.1368e+01,  2.5045e+01, -4.6845e-01],\n",
              "        [ 7.6490e-01,  8.3879e+00,  1.9279e+00, -1.7963e+01,  1.0258e+01,\n",
              "         -1.1917e+01, -1.1428e+01,  3.0600e+01,  7.3552e+00,  2.3811e+01],\n",
              "        [-3.0842e+01,  4.8637e+01, -1.9377e+01, -3.7013e+01, -3.3538e+01,\n",
              "         -2.8851e+00, -1.0585e+01, -7.0337e+00, -6.0719e-02,  1.6699e+01],\n",
              "        [ 4.1386e+01, -1.0031e+01,  2.1376e+01, -1.8661e+01, -3.5214e+01,\n",
              "         -2.6499e+01,  4.5481e+01, -3.6255e+00, -1.8627e+00, -4.6052e+00],\n",
              "        [ 1.6933e+01, -5.8580e+01, -3.5851e+01, -1.4083e+01, -2.0527e+01,\n",
              "         -1.0445e+01,  2.4314e+01,  9.5208e+00, -6.5709e+01, -1.2613e+01],\n",
              "        [ 2.7153e+00,  6.4654e+00,  4.4292e+00, -5.3550e+00, -2.7423e-01,\n",
              "         -6.1397e+00,  3.0255e+01, -1.5561e+01, -5.1031e+01, -1.5561e+01],\n",
              "        [ 4.0721e+00, -2.2826e+01, -1.4909e+00,  1.4973e+01,  2.7066e+01,\n",
              "          1.1239e+01, -8.0531e+00,  3.2218e+01,  4.2308e+01,  9.7786e+00],\n",
              "        [ 7.8348e+00, -2.4920e+01, -1.6124e+01,  8.0863e-01, -2.2154e+00,\n",
              "         -1.2843e+01,  1.1745e+01, -1.4720e+01,  3.5821e+00,  5.1607e+01],\n",
              "        [-2.5441e+01, -1.5092e+01,  2.7792e+01,  4.6139e+01,  1.0165e+01,\n",
              "         -1.6112e+01,  5.7992e-01, -1.8507e+00,  1.6115e+01, -6.8831e+01],\n",
              "        [ 1.9117e+01, -1.7584e+01,  1.2952e+01, -2.6135e+01, -3.4967e+00,\n",
              "         -3.3250e+01,  1.8618e+01,  9.8488e+00,  1.4313e+01,  2.2585e+01],\n",
              "        [-3.8602e+00, -4.9190e+01, -1.5897e+01, -3.5704e+01, -7.1172e+00,\n",
              "          6.7316e+00,  7.3014e+00, -1.7104e+01,  1.1824e+01,  4.3908e+01],\n",
              "        [ 7.8520e+00,  4.2260e+00, -3.4648e+01,  1.7935e+01, -3.3257e+01,\n",
              "         -1.2255e+01, -3.6200e+00,  2.9229e+01, -9.2120e+00,  1.8789e+01],\n",
              "        [-3.8895e+01, -4.5723e+00, -4.8689e+01, -4.1157e+00,  3.7387e+00,\n",
              "         -1.5445e+01,  1.5288e+01, -6.6619e+01, -7.3234e+00,  2.4894e+01],\n",
              "        [ 1.3768e+01, -1.9697e+01, -2.7775e+00,  3.0415e+01, -3.1368e+01,\n",
              "          8.2198e+00,  3.4789e+01,  5.0269e+00,  2.3879e+01, -2.0870e+01],\n",
              "        [ 1.0555e+01,  3.2275e+01,  1.7935e+01,  8.7468e+00,  4.1234e+01,\n",
              "         -2.6227e+00, -1.2903e+01, -3.7939e+01, -2.6293e+01,  6.3637e+00],\n",
              "        [-5.6644e+01, -1.8848e+00,  1.6734e+01, -1.4850e+01,  1.9845e+01,\n",
              "          3.2044e+01, -1.5978e+01,  5.1664e+01, -3.7978e+01,  2.4395e+01],\n",
              "        [-2.7803e+01,  2.9137e+01,  6.6312e-02,  2.8688e+01,  2.6717e+01,\n",
              "          6.4029e+01, -4.2032e+00, -3.9500e+00,  5.6919e+00,  3.4654e+01],\n",
              "        [ 4.3748e+01,  3.8910e+00, -9.8290e+00,  3.7501e+00, -1.9373e+01,\n",
              "          1.1270e+01, -9.0747e-01, -6.7598e+01,  1.3371e+01, -1.9381e+01],\n",
              "        [ 2.4212e+01,  2.5055e+01, -1.8901e+01, -3.2049e+01,  3.5043e+01,\n",
              "          3.0953e+01, -2.2933e+01, -2.5958e+01, -6.4654e+00,  2.0715e+00],\n",
              "        [ 2.1453e+00,  1.9828e+01,  5.9466e+01,  3.3269e+00,  1.4622e+01,\n",
              "         -7.9710e+00, -1.0628e+01, -1.0859e+01,  3.6340e+01, -5.1640e+01],\n",
              "        [ 8.6799e+00,  8.6099e+00, -3.0413e-01,  3.2533e+01, -1.3466e+00,\n",
              "         -8.9720e+01,  1.2130e+01,  1.2736e+01, -1.0371e+01, -2.7475e+00],\n",
              "        [ 1.4640e+01, -3.0182e+01, -7.1802e+00, -5.8399e+00,  6.4009e-01,\n",
              "         -5.5199e+01,  2.6318e+01,  3.4261e+01,  3.7276e+01, -1.1420e+00],\n",
              "        [-3.8936e+00, -1.3721e+01, -6.1102e+00,  3.2517e+01, -3.0085e+00,\n",
              "          1.0548e+00, -1.8178e+00,  1.0644e+01,  2.6197e+01,  3.9938e+01],\n",
              "        [-9.2040e+00,  1.0850e+01,  1.2690e+01,  3.7713e+00, -3.8628e+01,\n",
              "         -3.6954e+01,  1.1286e+01, -4.0491e+01, -1.2545e+01, -9.7010e+00],\n",
              "        [-3.0150e+01,  1.9718e+01, -1.0914e+00, -5.9157e+00,  1.0559e+01,\n",
              "          9.2948e+00,  2.9112e+01,  5.3759e+01,  7.3279e+01, -1.7224e+01],\n",
              "        [-7.5663e-01, -2.7491e+00,  1.0915e+01, -8.7831e+00, -4.3976e+01,\n",
              "          5.4700e+00,  4.8494e+01,  2.3371e+01,  1.2206e+01,  2.6122e+01],\n",
              "        [ 3.2188e+01,  1.6703e+01, -4.9282e+01,  2.6118e+01,  7.9622e+00,\n",
              "         -4.2106e+00, -1.8750e+01,  7.6599e+00, -4.8444e+00,  4.8854e+01],\n",
              "        [ 3.3498e+00, -1.8282e+01,  1.0713e+01,  2.7127e+01,  2.5174e+01,\n",
              "         -3.8488e+01,  4.7967e+01,  4.8188e+01,  4.2261e+01,  2.5410e+01],\n",
              "        [-2.6357e+01, -2.1443e+01,  7.6626e-01,  6.3712e+00, -6.0478e+00,\n",
              "          5.8987e+00, -1.1401e+01, -6.5728e+00,  1.5963e+01,  5.9863e+00],\n",
              "        [-4.5931e+01, -3.6585e+01, -4.2051e+01, -1.0471e+01,  1.3490e+01,\n",
              "         -5.9323e+01, -3.6714e+00,  1.3018e+01, -4.0774e+01,  3.0528e+01],\n",
              "        [ 2.5098e+00,  4.8978e+01, -1.1719e+01,  1.3873e+01, -4.5827e+01,\n",
              "          5.2723e+01,  2.7264e+01, -3.4808e+01, -9.5168e+00,  2.2916e+01],\n",
              "        [-1.8561e+01,  3.1061e+01,  2.3412e+00,  3.1659e+01,  1.9721e+01,\n",
              "         -2.5893e+01, -1.7595e-01,  1.6925e+00,  1.2872e+01,  3.9741e+01],\n",
              "        [-8.0308e+00,  6.4170e+00, -2.3673e+01,  2.2272e+01, -3.2100e+01,\n",
              "          2.9178e+01,  3.1340e+01, -5.2810e+00, -6.5590e+01, -2.5693e+01],\n",
              "        [ 1.8353e+01,  1.7033e+01, -1.9589e+01,  4.8413e+01, -9.0065e+00,\n",
              "          3.4086e+01, -4.9583e+01, -4.3438e+00, -1.2188e+01, -4.5436e+00],\n",
              "        [-1.6834e+01, -2.1923e+01,  9.8701e+00,  1.7161e+01, -1.9791e+01,\n",
              "          3.2165e+00,  9.5708e+00, -1.4986e+01,  3.5379e+01,  2.7561e+01],\n",
              "        [-4.8310e+00, -2.6324e+01, -2.4599e+01,  3.1838e+01, -6.7020e+00,\n",
              "          1.4131e+01, -8.0604e+00, -2.1567e+01,  1.3005e+01, -6.9800e+00],\n",
              "        [ 1.1615e+01,  4.1925e+00, -8.9614e-01, -3.4457e+01,  1.3506e+01,\n",
              "         -8.6958e+00,  1.3705e+01,  1.3429e+01, -4.2847e+01, -1.2262e+00],\n",
              "        [-4.3906e+01, -3.5772e+01, -4.4894e+01,  6.4456e+01, -2.9668e+01,\n",
              "         -7.7807e+00, -1.0169e+01, -5.5277e-01,  9.2879e-02, -1.2841e+01],\n",
              "        [-4.7837e+01, -2.7884e+01,  1.8589e+01,  4.5582e+01, -5.6615e+01,\n",
              "         -3.6640e+00, -2.0017e+01, -3.3937e+01,  2.5706e+01, -3.5353e+01],\n",
              "        [ 3.3359e+01,  2.1715e+01,  4.4040e+01,  1.7589e+01, -1.4780e+01,\n",
              "          2.2384e+01, -3.8333e+01,  1.1729e+01, -1.4492e+01,  2.5359e+01],\n",
              "        [ 4.8516e+01,  3.8318e+01,  2.6801e+00, -4.0423e+01,  8.6579e+00,\n",
              "          1.2195e-01,  1.4881e+01,  1.6173e+01,  1.3498e+01,  5.0056e+01],\n",
              "        [ 1.2478e+01,  2.9340e+01,  6.2899e-01, -3.4036e+01, -2.3579e+01,\n",
              "          1.6813e+01,  1.7793e+01, -2.7220e+01,  2.0652e+01,  3.5986e+01],\n",
              "        [ 1.7362e+00,  3.5778e+01, -5.8376e+01, -1.4616e+01,  1.1117e+01,\n",
              "         -5.3877e+01,  2.3722e+01, -4.0248e+00, -7.2168e+00,  1.2488e+01],\n",
              "        [ 5.4819e+01,  2.6791e+01, -1.1301e+01,  3.2315e+01, -1.1086e+01,\n",
              "         -5.0795e+00,  4.2817e+01, -3.8259e+01,  1.4996e+01,  9.4358e+00],\n",
              "        [ 3.6180e+01, -5.9358e+00,  1.8005e-02,  9.2974e-01,  2.4393e+01,\n",
              "         -5.1607e+01,  6.7687e+01,  2.5812e+01,  1.2416e+00,  9.5699e+00],\n",
              "        [ 6.3262e+01,  1.6383e+01,  1.0013e+01, -7.4728e+00,  3.0126e+01,\n",
              "          3.8640e+01,  1.6078e+01,  3.9388e+01, -3.2358e+01, -4.2555e+01],\n",
              "        [ 7.4673e+00,  1.1231e+01,  1.9353e+00,  2.2150e+01,  1.5559e+01,\n",
              "          6.7112e+01,  1.5919e+01,  2.0899e+01, -4.8203e+01,  3.8070e+01],\n",
              "        [-2.1244e+01, -3.3630e+00, -2.4400e+01, -2.6455e+01,  1.8513e+01,\n",
              "          1.5299e+01,  2.3385e+01, -3.1288e+00,  6.1385e+00, -5.2175e+01],\n",
              "        [ 6.2196e+00,  2.9221e+01, -1.9083e+00,  1.1818e+01, -2.0488e+01,\n",
              "         -1.3321e+01, -2.3452e+01,  9.7915e+00, -4.0421e+00,  1.3780e+01],\n",
              "        [-1.0079e+01, -2.9056e+01, -2.3379e+00, -1.2601e+01, -1.2214e+01,\n",
              "          8.5529e+00,  6.9779e+01, -2.8847e+01,  3.4431e+00, -2.8227e+01],\n",
              "        [-2.0009e+01, -2.3722e+01,  7.9778e+00,  2.5103e+01,  3.2898e+00,\n",
              "         -4.4430e+01, -7.3417e+00, -9.8336e-01,  4.0345e+01,  1.6099e+01],\n",
              "        [ 1.5441e+00,  2.2867e+01,  4.2485e+01,  2.2838e+01,  1.8206e+01,\n",
              "          1.2635e+01, -1.9639e+01,  1.0974e+01, -4.6811e+01, -3.4760e+00],\n",
              "        [-1.3812e+01, -9.5180e+00,  2.1431e+01,  5.5719e+01, -5.6755e+01,\n",
              "          2.1401e+01,  1.2243e+01,  8.2360e+00,  1.9832e+01,  2.5465e+00],\n",
              "        [-4.2476e+00, -3.0207e+01, -7.6759e+00,  6.2102e+01, -3.9826e+01,\n",
              "          1.4495e+01,  2.2692e+01,  1.1464e+01, -1.5220e+00,  2.3375e+01],\n",
              "        [ 5.7496e+00,  1.9958e+01,  5.8949e+00,  4.0947e+01, -2.0935e+01,\n",
              "          3.2057e+01,  2.7963e+01, -2.5540e+01,  3.8040e+01, -7.8769e+00],\n",
              "        [ 2.3372e+01,  2.3861e+01,  2.4657e+01,  2.7200e+00, -3.6767e+01,\n",
              "         -2.2457e+01, -1.3177e+01,  1.0886e+01,  2.8093e+01, -3.0157e+01],\n",
              "        [-5.8020e+00, -4.3950e+00,  3.6783e+01, -7.3832e+00,  3.6324e+01,\n",
              "          5.6134e+01, -1.3119e+01,  4.1787e+01,  2.8142e+01,  1.9814e+01],\n",
              "        [-3.5134e+01,  9.7773e+00,  2.8578e+01,  6.9907e+00,  6.6234e+01,\n",
              "         -2.0916e+00,  7.1965e+00, -1.3620e+01, -9.8034e+00,  4.7824e+00],\n",
              "        [ 1.7899e+01, -3.2960e+01, -1.7507e+01,  4.6528e+00, -1.2936e+01,\n",
              "         -1.5450e+01,  1.2411e+01,  8.2740e+00,  2.3299e+01,  1.7019e+01],\n",
              "        [-2.9473e+01,  7.6222e+00,  2.9111e+01,  4.3265e+01, -1.8849e+00,\n",
              "         -1.3562e+01, -5.9861e+00,  3.8276e+01,  2.8890e+01, -1.5801e+01],\n",
              "        [ 2.2888e+01,  1.2823e+01,  7.9533e-01, -1.3801e+01,  5.2902e+01,\n",
              "         -2.2127e+01,  5.6781e+00,  8.8919e+00,  3.1442e+01, -6.3584e-01],\n",
              "        [ 3.3177e+01, -6.4564e+01, -8.3448e+00, -7.5880e+00,  9.7149e+00,\n",
              "          5.5629e+00,  2.8442e+01,  2.2563e+01,  7.5600e+00,  5.9021e+00],\n",
              "        [ 3.0651e+01,  4.4696e+00,  3.3220e+01, -5.6753e+00,  1.2048e+01,\n",
              "         -7.4177e+00,  1.6192e+01,  7.9597e+00, -4.6348e+01,  4.2827e+01],\n",
              "        [ 6.9351e+00, -5.2090e+00,  1.1608e+01,  2.5583e+01,  3.2365e+01,\n",
              "          1.1767e+01, -2.1812e+01, -3.3058e+01,  1.0689e+01, -8.1139e+00],\n",
              "        [ 2.1046e+01,  1.0418e+01, -3.2111e+01, -2.4164e+00,  2.5211e+01,\n",
              "          1.3153e+01, -5.1548e+01, -1.4950e+00, -2.5387e+01,  1.2130e+01],\n",
              "        [ 1.3067e+01, -1.1211e+01,  1.8920e+01,  1.6301e+01, -6.0503e+01,\n",
              "         -1.6030e+01,  3.7085e+00, -1.6497e+01, -8.1588e+00, -2.3325e+01],\n",
              "        [ 1.8419e+01, -5.7772e+01,  1.4435e+01,  1.6312e+00,  3.9196e+01,\n",
              "          1.3851e+01, -4.8214e+00, -1.3515e+01,  4.4327e+01, -2.6533e+00],\n",
              "        [-2.8208e+01, -1.7948e+01, -4.7391e+00, -3.5129e+01,  4.5049e+01,\n",
              "         -2.7761e+01, -5.5770e+00,  5.6380e+01,  2.7633e+01, -1.8981e+01],\n",
              "        [-5.1582e+01, -6.7405e+00,  5.1203e+00,  1.4781e+01, -1.0263e+01,\n",
              "         -2.8075e+01, -1.8046e+01, -1.1118e+00,  5.2847e+00, -9.4681e+00],\n",
              "        [ 2.1866e+01, -6.8173e+01,  3.2134e+00,  3.5781e+01,  4.6813e+01,\n",
              "          1.5867e+01,  7.0404e+00,  6.2646e-01,  1.7350e+00, -6.9244e+00],\n",
              "        [ 7.2508e+01,  4.5806e+01,  5.5274e+00, -2.7915e+01, -4.5833e+01,\n",
              "          4.9543e+00,  5.0925e+00,  6.5651e+01, -2.7145e+01,  1.5483e+00],\n",
              "        [ 7.6386e+01, -8.6284e+00, -4.3061e+01,  6.6989e+00,  9.0218e-01,\n",
              "         -1.2170e+01, -2.2882e+01,  3.9424e+01, -1.6161e+01,  1.6037e+01],\n",
              "        [ 5.4301e+01,  2.8965e+01,  3.3129e+01,  1.0683e+01,  8.0804e+00,\n",
              "         -2.6466e+00, -2.1849e+01,  1.3908e+01, -1.3758e+01, -9.1540e+00],\n",
              "        [-9.1478e+00, -2.3623e+01,  2.0931e+01, -5.9411e+01, -5.3285e+01,\n",
              "          6.9660e-01, -3.7003e+01,  1.9815e+01,  4.0484e+01, -3.8715e+01],\n",
              "        [-2.9351e+00, -5.0720e+00,  1.8653e+01,  2.7579e+00,  1.9698e+00,\n",
              "          2.8692e+01, -1.6095e+01,  1.1163e+01, -6.3673e+01,  1.3998e+01],\n",
              "        [ 3.6504e+01, -2.4742e+01,  2.4014e+01,  3.7672e+01, -9.9809e+00,\n",
              "          8.9117e-01,  1.3020e+01,  1.0851e+01, -2.1254e+01, -6.0462e+01],\n",
              "        [-4.2147e+00,  2.6711e+00,  1.6588e+01, -1.9664e+01, -4.0707e+01,\n",
              "         -6.7288e+00, -3.1665e+01, -2.9774e+01, -4.8869e+01,  2.3478e+01],\n",
              "        [ 6.7843e+00, -1.4800e+01, -3.4253e+00,  3.7811e+00, -1.0727e+01,\n",
              "         -2.3227e+01, -3.2002e+00,  4.9494e+01, -1.6373e+01, -7.5299e+01],\n",
              "        [-7.7596e+00,  2.9978e+01,  2.7427e+01,  1.6526e+01, -3.8389e+01,\n",
              "          5.1274e+01, -1.3338e+01,  6.4488e+00,  3.0705e+01,  6.3667e+00],\n",
              "        [ 6.2994e+01, -2.5379e+01, -1.2700e+01,  2.7077e+00, -5.9519e+01,\n",
              "          7.8124e+00,  1.6222e+01, -5.0155e+01, -9.9903e-01, -2.1222e+01],\n",
              "        [-2.2487e+01, -1.2561e+01,  2.7122e+01,  5.5165e+00, -3.2946e+01,\n",
              "          3.9990e+01,  2.8050e+01,  9.5229e-01, -5.3047e+01, -1.1901e+01],\n",
              "        [ 1.3922e+01, -2.7015e+01, -5.6413e+01, -2.1571e+01,  1.6783e+01,\n",
              "          3.1430e+01,  3.0506e+01,  3.0240e+01, -6.2407e+00, -1.8567e+01],\n",
              "        [ 4.0712e+01,  1.8380e+01, -2.2750e+01, -2.2354e+01,  2.7022e+01,\n",
              "         -8.7846e-01, -7.0364e+01, -1.5701e+01,  4.6915e+01, -1.7405e+01],\n",
              "        [ 1.9185e+01,  7.8999e-01, -2.6288e+01,  3.0358e+01, -6.6893e+01,\n",
              "         -1.6773e+01,  2.5100e+01,  5.3084e+01,  2.0697e+01,  2.2382e+01],\n",
              "        [ 1.6028e+01,  1.8560e+01, -2.2509e+01,  7.6228e+00, -1.2354e+01,\n",
              "         -3.7733e+01,  1.3344e+01,  2.1994e+01, -7.4225e+00, -5.7093e+00],\n",
              "        [-3.7847e+01, -1.9020e+01,  4.5585e+00,  4.8734e+01, -3.8819e+01,\n",
              "         -4.2900e+00, -1.3380e+01, -1.8814e+00,  2.0781e+01, -1.6616e+01],\n",
              "        [ 7.0363e+01, -7.3565e-01, -2.4219e+01, -3.3858e+01, -9.6764e+00,\n",
              "         -6.0422e+00, -6.3929e+01,  5.4470e+01, -1.5780e+01,  4.2589e+00],\n",
              "        [ 1.4983e+01,  4.2704e+01,  1.1263e+01,  2.7906e+01, -2.6361e+00,\n",
              "          2.6854e+01, -3.3072e+01,  1.3101e+01, -8.9826e+00, -2.9849e+00],\n",
              "        [-1.3514e+01,  1.7361e+01,  3.1490e+01,  5.4441e+01,  4.4085e+01,\n",
              "         -4.7772e+01,  2.4371e+01, -4.3839e+00,  3.7182e+01, -9.0454e+00],\n",
              "        [-2.6413e+01, -1.0830e+01, -7.3817e+00,  2.7875e+00, -5.6479e+00,\n",
              "          1.6586e+01, -3.0070e+01,  2.0150e+01, -3.2936e+01, -4.1319e-02],\n",
              "        [ 5.0276e+00,  2.8322e+01,  5.3531e-01,  2.6395e+01,  1.1946e+01,\n",
              "          3.7893e+01, -1.8548e+01, -1.1616e+01,  7.0965e+00, -1.9281e+01],\n",
              "        [-1.3258e+01,  1.3495e+01, -1.5600e+01,  2.1730e+01,  2.4114e+00,\n",
              "         -7.4822e+00, -1.6419e+00, -5.6063e+01,  4.5245e+01, -1.4703e+01],\n",
              "        [-2.9622e+01,  1.9737e+01, -4.6956e+01,  2.0390e+01, -2.7506e+01,\n",
              "         -2.4198e+00, -2.8088e+01, -1.4278e+01,  4.3658e+01, -2.0767e+00],\n",
              "        [ 1.3777e+01, -2.3737e+01, -2.7847e+00, -3.3916e+00,  1.9396e+00,\n",
              "          1.7346e+01, -2.2282e+01, -1.1251e+00,  3.3969e-01, -3.5382e+01]],\n",
              "       grad_fn=<AddBackward0>)"
            ]
          },
          "metadata": {},
          "execution_count": 93
        }
      ]
    },
    {
      "cell_type": "markdown",
      "source": [
        "# Home Work:\n",
        "Understanding Datasets and Setting as input and output\n",
        "\n",
        "\n",
        "*   Titanic:\n",
        "  *   https:///www.kaggle.com/c/titanic\n",
        "  *   input - 12 columns including survived (output) columns\n",
        "  *   Output - Survived/Not Survived -> T/F || 1/0\n",
        "  *   891 records\n",
        "*   Supermarket\n",
        "*   Loan Dataset\n",
        "\n",
        "\n",
        "#*   What is next?\n",
        "\n",
        "\n",
        "*   How the data is loaded into a network?\n",
        "*   How transectional data is processed with PyTorch\n",
        "*   How the image data is processed with PyTorch\n",
        "\n",
        "# Supported Neural Network Architecture with PyTorch\n",
        "*   nn.Linear\n",
        "*   nn.Conv2d\n",
        "*   nn.MaxPool2d\n",
        "*   nn.ReLU\n",
        "*   nn.BatchNorm2d\n",
        "*   nn.Dropout\n",
        "*   nn.Embedding\n",
        "*   nn.MultiheadAttention\n",
        "*   nn.TransformerEncoder\n",
        "\n",
        "\n",
        "\n",
        "\n",
        "\n",
        "\n",
        "\n",
        "\n"
      ],
      "metadata": {
        "id": "lyN4Eum4GlfA"
      }
    }
  ]
}